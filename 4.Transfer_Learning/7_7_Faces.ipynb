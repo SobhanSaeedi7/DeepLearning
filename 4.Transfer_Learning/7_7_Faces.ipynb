{
  "nbformat": 4,
  "nbformat_minor": 0,
  "metadata": {
    "colab": {
      "provenance": [],
      "gpuType": "T4"
    },
    "kernelspec": {
      "name": "python3",
      "display_name": "Python 3"
    },
    "language_info": {
      "name": "python"
    },
    "accelerator": "GPU"
  },
  "cells": [
    {
      "cell_type": "code",
      "execution_count": 1,
      "metadata": {
        "id": "qg3pIQU8LB90"
      },
      "outputs": [],
      "source": [
        "import tensorflow as tf\n",
        "import numpy as np\n",
        "import matplotlib.pyplot as plt\n",
        "from tensorflow.keras import layers, models\n",
        "from tensorflow.keras.preprocessing.image import ImageDataGenerator\n",
        "from sklearn import metrics"
      ]
    },
    {
      "cell_type": "code",
      "source": [
        "dataset_path = '/content/drive/MyDrive/datasets/7-7-faces'\n",
        "\n",
        "# image augmentation\n",
        "idg = ImageDataGenerator(\n",
        "    rescale=1./255,\n",
        "    horizontal_flip=True,\n",
        "    validation_split=0.1\n",
        ")\n",
        "\n",
        "dataset_train = idg.flow_from_directory(\n",
        "    dataset_path,\n",
        "    shuffle=True,\n",
        "    subset='training',\n",
        "    target_size=(224, 224)\n",
        ")\n",
        "\n",
        "dataset_validation = idg.flow_from_directory(\n",
        "    dataset_path,\n",
        "    shuffle=True,\n",
        "    subset='validation',\n",
        "    target_size=(224, 224)\n",
        "\n",
        ")"
      ],
      "metadata": {
        "colab": {
          "base_uri": "https://localhost:8080/"
        },
        "id": "b5FiIEUjMcun",
        "outputId": "2e9d5e7e-38e7-434d-abc8-ca0c6925d89c"
      },
      "execution_count": 3,
      "outputs": [
        {
          "output_type": "stream",
          "name": "stdout",
          "text": [
            "Found 1227 images belonging to 14 classes.\n",
            "Found 131 images belonging to 14 classes.\n"
          ]
        }
      ]
    },
    {
      "cell_type": "code",
      "source": [
        "model = tf.keras.applications.VGG16(include_top=False, input_shape=(224, 224, 3))"
      ],
      "metadata": {
        "id": "KecOBB3cPk2R"
      },
      "execution_count": 9,
      "outputs": []
    },
    {
      "cell_type": "code",
      "source": [
        "model = models.Sequential([\n",
        "    model,\n",
        "    layers.Flatten(),\n",
        "    layers.Dense(2000, activation='relu'),\n",
        "    layers.Dense(1000, activation='relu'),\n",
        "    layers.Dense(14, activation='softmax')\n",
        "    ])"
      ],
      "metadata": {
        "id": "qPBhAb-CSOwO"
      },
      "execution_count": 16,
      "outputs": []
    },
    {
      "cell_type": "code",
      "source": [
        "model.summary()"
      ],
      "metadata": {
        "colab": {
          "base_uri": "https://localhost:8080/"
        },
        "id": "IJa1E5WFQjeP",
        "outputId": "85d1854b-dd9d-453c-9ecc-f89f07a5957b"
      },
      "execution_count": 17,
      "outputs": [
        {
          "output_type": "stream",
          "name": "stdout",
          "text": [
            "Model: \"sequential_1\"\n",
            "_________________________________________________________________\n",
            " Layer (type)                Output Shape              Param #   \n",
            "=================================================================\n",
            " sequential (Sequential)     (None, 17)                66910705  \n",
            "                                                                 \n",
            " flatten_1 (Flatten)         (None, 17)                0         \n",
            "                                                                 \n",
            " dense_3 (Dense)             (None, 2000)              36000     \n",
            "                                                                 \n",
            " dense_4 (Dense)             (None, 1000)              2001000   \n",
            "                                                                 \n",
            " dense_5 (Dense)             (None, 14)                14014     \n",
            "                                                                 \n",
            "=================================================================\n",
            "Total params: 68961719 (263.07 MB)\n",
            "Trainable params: 68961719 (263.07 MB)\n",
            "Non-trainable params: 0 (0.00 Byte)\n",
            "_________________________________________________________________\n"
          ]
        }
      ]
    },
    {
      "cell_type": "code",
      "source": [
        "model.compile(optimizer=tf.keras.optimizers.Adam(learning_rate=0.001),\n",
        "              loss=tf.keras.losses.categorical_crossentropy,\n",
        "              metrics=['accuracy']\n",
        "              )"
      ],
      "metadata": {
        "id": "OidaRk-mVR5_"
      },
      "execution_count": 18,
      "outputs": []
    },
    {
      "cell_type": "code",
      "source": [
        "history = model.fit(dataset_train,\n",
        "                    validation_data=dataset_validation,\n",
        "                    epochs=20)"
      ],
      "metadata": {
        "colab": {
          "base_uri": "https://localhost:8080/"
        },
        "id": "Ql8umaTgVS3S",
        "outputId": "e42fa321-0816-4250-e7b1-bdc23d4bd4f7"
      },
      "execution_count": 19,
      "outputs": [
        {
          "output_type": "stream",
          "name": "stdout",
          "text": [
            "Epoch 1/20\n",
            "39/39 [==============================] - 381s 9s/step - loss: 2.6501 - accuracy: 0.0587 - val_loss: 2.6362 - val_accuracy: 0.0840\n",
            "Epoch 2/20\n",
            "39/39 [==============================] - 18s 445ms/step - loss: 2.6394 - accuracy: 0.0742 - val_loss: 2.6353 - val_accuracy: 0.0840\n",
            "Epoch 3/20\n",
            "39/39 [==============================] - 16s 408ms/step - loss: 2.6381 - accuracy: 0.0717 - val_loss: 2.6351 - val_accuracy: 0.0840\n",
            "Epoch 4/20\n",
            "39/39 [==============================] - 16s 411ms/step - loss: 2.6375 - accuracy: 0.0815 - val_loss: 2.6346 - val_accuracy: 0.0840\n",
            "Epoch 5/20\n",
            "39/39 [==============================] - 16s 412ms/step - loss: 2.6377 - accuracy: 0.0815 - val_loss: 2.6343 - val_accuracy: 0.0840\n",
            "Epoch 6/20\n",
            "39/39 [==============================] - 17s 427ms/step - loss: 2.6368 - accuracy: 0.0815 - val_loss: 2.6341 - val_accuracy: 0.0840\n",
            "Epoch 7/20\n",
            "39/39 [==============================] - 17s 421ms/step - loss: 2.6371 - accuracy: 0.0815 - val_loss: 2.6350 - val_accuracy: 0.0840\n",
            "Epoch 8/20\n",
            "39/39 [==============================] - 17s 421ms/step - loss: 2.6383 - accuracy: 0.0815 - val_loss: 2.6347 - val_accuracy: 0.0840\n",
            "Epoch 9/20\n",
            "39/39 [==============================] - 17s 427ms/step - loss: 2.6374 - accuracy: 0.0815 - val_loss: 2.6356 - val_accuracy: 0.0840\n",
            "Epoch 10/20\n",
            "39/39 [==============================] - 17s 424ms/step - loss: 2.6369 - accuracy: 0.0815 - val_loss: 2.6345 - val_accuracy: 0.0840\n",
            "Epoch 11/20\n",
            "39/39 [==============================] - 17s 438ms/step - loss: 2.6369 - accuracy: 0.0815 - val_loss: 2.6347 - val_accuracy: 0.0840\n",
            "Epoch 12/20\n",
            "39/39 [==============================] - 17s 434ms/step - loss: 2.6364 - accuracy: 0.0815 - val_loss: 2.6344 - val_accuracy: 0.0840\n",
            "Epoch 13/20\n",
            "39/39 [==============================] - 17s 431ms/step - loss: 2.6367 - accuracy: 0.0815 - val_loss: 2.6350 - val_accuracy: 0.0840\n",
            "Epoch 14/20\n",
            "39/39 [==============================] - 17s 432ms/step - loss: 2.6363 - accuracy: 0.0815 - val_loss: 2.6344 - val_accuracy: 0.0840\n",
            "Epoch 15/20\n",
            "39/39 [==============================] - 18s 467ms/step - loss: 2.6367 - accuracy: 0.0815 - val_loss: 2.6344 - val_accuracy: 0.0840\n",
            "Epoch 16/20\n",
            "39/39 [==============================] - 18s 467ms/step - loss: 2.6365 - accuracy: 0.0815 - val_loss: 2.6344 - val_accuracy: 0.0840\n",
            "Epoch 17/20\n",
            "39/39 [==============================] - 17s 433ms/step - loss: 2.6361 - accuracy: 0.0815 - val_loss: 2.6344 - val_accuracy: 0.0840\n",
            "Epoch 18/20\n",
            "39/39 [==============================] - 17s 433ms/step - loss: 2.6373 - accuracy: 0.0815 - val_loss: 2.6339 - val_accuracy: 0.0840\n",
            "Epoch 19/20\n",
            "39/39 [==============================] - 17s 433ms/step - loss: 2.6365 - accuracy: 0.0815 - val_loss: 2.6347 - val_accuracy: 0.0840\n",
            "Epoch 20/20\n",
            "39/39 [==============================] - 17s 441ms/step - loss: 2.6364 - accuracy: 0.0815 - val_loss: 2.6345 - val_accuracy: 0.0840\n"
          ]
        }
      ]
    }
  ]
}