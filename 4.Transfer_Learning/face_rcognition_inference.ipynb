{
  "nbformat": 4,
  "nbformat_minor": 0,
  "metadata": {
    "colab": {
      "provenance": [],
      "gpuType": "T4"
    },
    "kernelspec": {
      "name": "python3",
      "display_name": "Python 3"
    },
    "language_info": {
      "name": "python"
    },
    "accelerator": "GPU"
  },
  "cells": [
    {
      "cell_type": "code",
      "execution_count": 3,
      "metadata": {
        "id": "8LGtG-PEJJeO"
      },
      "outputs": [],
      "source": [
        "import tensorflow as tf\n",
        "import numpy as np\n",
        "import cv2"
      ]
    },
    {
      "cell_type": "code",
      "source": [
        "model = tf.keras.models.load_model('/content/drive/MyDrive/PyLearn 7 Course/54.TransferLearning/7_7_Faces_Model.h5')"
      ],
      "metadata": {
        "id": "oopZr88rJlxQ"
      },
      "execution_count": 4,
      "outputs": []
    },
    {
      "cell_type": "code",
      "source": [
        "image = cv2.imread('/content/drive/MyDrive/datasets/7-7-faces/Lionel_Messi/Lionel-Messi-10_01.jpg')\n",
        "image = cv2.cvtColor(image, cv2.COLOR_BGR2RGB)\n",
        "image = cv2.resize(image, (224, 224))\n",
        "image = image / 255.0\n",
        "image = image.reshape(1, 224, 224, 3)\n",
        "\n",
        "output = model.predict(image)\n",
        "np.argmax(output)"
      ],
      "metadata": {
        "id": "bvK6gpGBJ-Z5",
        "colab": {
          "base_uri": "https://localhost:8080/"
        },
        "outputId": "0bd03c8f-6cce-4c44-9bd7-9a95fe904111"
      },
      "execution_count": 6,
      "outputs": [
        {
          "output_type": "stream",
          "name": "stdout",
          "text": [
            "1/1 [==============================] - 1s 1s/step\n"
          ]
        },
        {
          "output_type": "execute_result",
          "data": {
            "text/plain": [
              "9"
            ]
          },
          "metadata": {},
          "execution_count": 6
        }
      ]
    },
    {
      "cell_type": "markdown",
      "source": [
        "'Ali_Khamenei': 0\n",
        "\n",
        " 'Angelina_Jolie': 1\n",
        "\n",
        " 'Barak_Obama': 2\n",
        "\n",
        " 'Behnam_Bani': 3\n",
        "\n",
        " 'Donald_Trump': 4\n",
        "\n",
        " 'Emma_Watson': 5\n",
        "\n",
        " 'Han_Hye_Jin': 6\n",
        "\n",
        " 'Kim_Jong_Un': 7\n",
        "\n",
        " 'Leyla_Hatami': 8\n",
        "\n",
        " 'Lionel_Messi': 9\n",
        "\n",
        " 'Michelle_Obama': 10\n",
        "\n",
        " 'Morgan_Freeman': 11\n",
        "\n",
        " 'Queen_Elizabeth': 12\n",
        "\n",
        " 'Scarlett_Johansson': 13"
      ],
      "metadata": {
        "id": "uLbXuvi3Mydb"
      }
    }
  ]
}