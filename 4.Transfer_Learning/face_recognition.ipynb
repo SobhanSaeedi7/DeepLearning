{
  "nbformat": 4,
  "nbformat_minor": 0,
  "metadata": {
    "colab": {
      "provenance": [],
      "gpuType": "T4"
    },
    "kernelspec": {
      "name": "python3",
      "display_name": "Python 3"
    },
    "language_info": {
      "name": "python"
    },
    "accelerator": "GPU"
  },
  "cells": [
    {
      "cell_type": "code",
      "execution_count": 3,
      "metadata": {
        "id": "sok6VlG1Rmia"
      },
      "outputs": [],
      "source": [
        "import numpy as np\n",
        "from tensorflow.keras.models import Sequential\n",
        "from tensorflow.keras import layers\n",
        "from tensorflow.keras.optimizers import RMSprop\n",
        "from tensorflow.keras.preprocessing.image import ImageDataGenerator\n",
        "import tensorflow as tf\n",
        "import matplotlib.pyplot as plt"
      ]
    },
    {
      "cell_type": "markdown",
      "source": [
        "# Preparing Dataset"
      ],
      "metadata": {
        "id": "OJQFWYiNTbcL"
      }
    },
    {
      "cell_type": "code",
      "source": [
        "dataset_path = '/content/drive/MyDrive/datasets/7-7-faces'\n",
        "width = height = 224\n",
        "\n",
        "image_data_generator = ImageDataGenerator(\n",
        "    rescale=1./255,\n",
        "    horizontal_flip=True,\n",
        "    brightness_range=(0.8, 1.2),\n",
        "    validation_split=0.1\n",
        ")\n",
        "\n",
        "train_data = image_data_generator.flow_from_directory(\n",
        "    dataset_path,\n",
        "    target_size=(width, height),\n",
        "    subset='training',\n",
        "    shuffle=True,\n",
        "    batch_size=32\n",
        ")\n",
        "\n",
        "validation_data = image_data_generator.flow_from_directory(\n",
        "    dataset_path,\n",
        "    target_size=(width, height),\n",
        "    subset='validation',\n",
        "    shuffle=False,\n",
        "    batch_size=32\n",
        ")\n"
      ],
      "metadata": {
        "colab": {
          "base_uri": "https://localhost:8080/"
        },
        "id": "AG64V0eEThD-",
        "outputId": "5bc17693-e7bf-41e4-80aa-3b031632b044"
      },
      "execution_count": 8,
      "outputs": [
        {
          "output_type": "stream",
          "name": "stdout",
          "text": [
            "Found 1227 images belonging to 14 classes.\n",
            "Found 131 images belonging to 14 classes.\n"
          ]
        }
      ]
    },
    {
      "cell_type": "markdown",
      "source": [
        "# Creat Model"
      ],
      "metadata": {
        "id": "rmZn5HqIaQp8"
      }
    },
    {
      "cell_type": "code",
      "source": [
        "base_model = tf.keras.applications.MobileNetV2(\n",
        "    include_top=False,\n",
        "    weights='imagenet',\n",
        "    input_shape=(width, height, 3),\n",
        "    pooling='avg'\n",
        ")"
      ],
      "metadata": {
        "colab": {
          "base_uri": "https://localhost:8080/"
        },
        "id": "n-_qgP7taP_t",
        "outputId": "4557885b-caf1-4d80-d11a-32706701ae26"
      },
      "execution_count": 12,
      "outputs": [
        {
          "output_type": "stream",
          "name": "stdout",
          "text": [
            "Downloading data from https://storage.googleapis.com/tensorflow/keras-applications/mobilenet_v2/mobilenet_v2_weights_tf_dim_ordering_tf_kernels_1.0_224_no_top.h5\n",
            "9406464/9406464 [==============================] - 2s 0us/step\n"
          ]
        }
      ]
    },
    {
      "cell_type": "code",
      "source": [
        "for layer in base_model.layers[0:-4]:\n",
        "  layer.trainable = False"
      ],
      "metadata": {
        "id": "LQmuZr5Db4Hf"
      },
      "execution_count": 13,
      "outputs": []
    },
    {
      "cell_type": "code",
      "source": [
        "model = Sequential([\n",
        "    base_model,\n",
        "    layers.Dense(14, activation='softmax')\n",
        "])"
      ],
      "metadata": {
        "id": "p9iBpxspYPr0"
      },
      "execution_count": 17,
      "outputs": []
    },
    {
      "cell_type": "code",
      "source": [
        "model.summary()"
      ],
      "metadata": {
        "colab": {
          "base_uri": "https://localhost:8080/"
        },
        "id": "P6y4Fbd6eVN0",
        "outputId": "388f2acd-53ea-42d9-cada-8d11d3be4561"
      },
      "execution_count": 18,
      "outputs": [
        {
          "output_type": "stream",
          "name": "stdout",
          "text": [
            "Model: \"sequential\"\n",
            "_________________________________________________________________\n",
            " Layer (type)                Output Shape              Param #   \n",
            "=================================================================\n",
            " mobilenetv2_1.00_224 (Func  (None, 1280)              2257984   \n",
            " tional)                                                         \n",
            "                                                                 \n",
            " dense (Dense)               (None, 14)                17934     \n",
            "                                                                 \n",
            "=================================================================\n",
            "Total params: 2275918 (8.68 MB)\n",
            "Trainable params: 430094 (1.64 MB)\n",
            "Non-trainable params: 1845824 (7.04 MB)\n",
            "_________________________________________________________________\n"
          ]
        }
      ]
    },
    {
      "cell_type": "code",
      "source": [
        "model.compile(\n",
        "    loss=tf.keras.losses.CategoricalCrossentropy,\n",
        "    optimizer=RMSprop(learning_rate=1e-4),\n",
        "    metrics=['accuracy']\n",
        ")"
      ],
      "metadata": {
        "id": "wgQ49ypcejXu"
      },
      "execution_count": 19,
      "outputs": []
    },
    {
      "cell_type": "code",
      "source": [
        "history = model.fit(train_data,\n",
        "          validation_data=validation_data,\n",
        "          epochs=32)"
      ],
      "metadata": {
        "id": "wm0_BtbrfZ6S"
      },
      "execution_count": null,
      "outputs": []
    }
  ]
}