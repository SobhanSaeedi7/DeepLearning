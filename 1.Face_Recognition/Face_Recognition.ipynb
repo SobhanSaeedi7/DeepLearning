{
  "nbformat": 4,
  "nbformat_minor": 0,
  "metadata": {
    "colab": {
      "provenance": []
    },
    "kernelspec": {
      "name": "python3",
      "display_name": "Python 3"
    },
    "language_info": {
      "name": "python"
    }
  },
  "cells": [
    {
      "cell_type": "code",
      "source": [
        "!pip install deepface"
      ],
      "metadata": {
        "id": "qBeBh98GXbhq"
      },
      "execution_count": null,
      "outputs": []
    },
    {
      "cell_type": "code",
      "execution_count": 3,
      "metadata": {
        "id": "tC7FCkvJWFO8",
        "colab": {
          "base_uri": "https://localhost:8080/"
        },
        "outputId": "ab9a109b-3312-46aa-b689-53429df4b750"
      },
      "outputs": [
        {
          "output_type": "stream",
          "name": "stdout",
          "text": [
            "24-01-10 17:15:12 - Directory /root/.deepface created\n",
            "24-01-10 17:15:12 - Directory /root/.deepface/weights created\n"
          ]
        }
      ],
      "source": [
        "from deepface import DeepFace"
      ]
    },
    {
      "cell_type": "code",
      "source": [
        "embedding_objs = DeepFace.represent(img_path = \"img.jpg\")"
      ],
      "metadata": {
        "id": "z8jk8BsUXbEf"
      },
      "execution_count": null,
      "outputs": []
    },
    {
      "cell_type": "code",
      "source": [],
      "metadata": {
        "id": "TWz0vwz-YAWE"
      },
      "execution_count": null,
      "outputs": []
    }
  ]
}