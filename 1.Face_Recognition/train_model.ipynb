{
  "cells": [
    {
      "cell_type": "code",
      "execution_count": 2,
      "metadata": {
        "id": "cy5ihnb6Ov5Y"
      },
      "outputs": [],
      "source": [
        "import tensorflow as tf\n",
        "import numpy as np\n",
        "import pandas as pd\n",
        "from sklearn.model_selection import train_test_split\n",
        "from deepface import DeepFace"
      ]
    },
    {
      "cell_type": "code",
      "execution_count": 3,
      "metadata": {
        "colab": {
          "base_uri": "https://localhost:8080/",
          "height": 273
        },
        "id": "nWxv3YxdO1ZS",
        "outputId": "2e56d420-876e-4cfb-f7c6-d4eca535adca"
      },
      "outputs": [
        {
          "data": {
            "text/html": [
              "<div>\n",
              "<style scoped>\n",
              "    .dataframe tbody tr th:only-of-type {\n",
              "        vertical-align: middle;\n",
              "    }\n",
              "\n",
              "    .dataframe tbody tr th {\n",
              "        vertical-align: top;\n",
              "    }\n",
              "\n",
              "    .dataframe thead th {\n",
              "        text-align: right;\n",
              "    }\n",
              "</style>\n",
              "<table border=\"1\" class=\"dataframe\">\n",
              "  <thead>\n",
              "    <tr style=\"text-align: right;\">\n",
              "      <th></th>\n",
              "      <th>Unnamed: 0</th>\n",
              "      <th>0</th>\n",
              "      <th>1</th>\n",
              "      <th>2</th>\n",
              "      <th>3</th>\n",
              "      <th>4</th>\n",
              "      <th>5</th>\n",
              "      <th>6</th>\n",
              "      <th>7</th>\n",
              "      <th>8</th>\n",
              "      <th>...</th>\n",
              "      <th>504</th>\n",
              "      <th>505</th>\n",
              "      <th>506</th>\n",
              "      <th>507</th>\n",
              "      <th>508</th>\n",
              "      <th>509</th>\n",
              "      <th>510</th>\n",
              "      <th>511</th>\n",
              "      <th>Celeb</th>\n",
              "      <th>Celeb_Label</th>\n",
              "    </tr>\n",
              "  </thead>\n",
              "  <tbody>\n",
              "    <tr>\n",
              "      <th>0</th>\n",
              "      <td>0</td>\n",
              "      <td>0.102777</td>\n",
              "      <td>0.437245</td>\n",
              "      <td>0.134822</td>\n",
              "      <td>0.136755</td>\n",
              "      <td>0.125466</td>\n",
              "      <td>0.077529</td>\n",
              "      <td>0.205964</td>\n",
              "      <td>-0.155207</td>\n",
              "      <td>0.372008</td>\n",
              "      <td>...</td>\n",
              "      <td>0.173018</td>\n",
              "      <td>0.077989</td>\n",
              "      <td>0.186178</td>\n",
              "      <td>-0.378087</td>\n",
              "      <td>-0.067210</td>\n",
              "      <td>0.032544</td>\n",
              "      <td>0.509354</td>\n",
              "      <td>0.153284</td>\n",
              "      <td>Bahram_Radan</td>\n",
              "      <td>0</td>\n",
              "    </tr>\n",
              "    <tr>\n",
              "      <th>1</th>\n",
              "      <td>1</td>\n",
              "      <td>0.177933</td>\n",
              "      <td>0.109854</td>\n",
              "      <td>0.366296</td>\n",
              "      <td>0.102263</td>\n",
              "      <td>0.098167</td>\n",
              "      <td>0.074980</td>\n",
              "      <td>0.071582</td>\n",
              "      <td>-0.139025</td>\n",
              "      <td>0.177708</td>\n",
              "      <td>...</td>\n",
              "      <td>-0.030703</td>\n",
              "      <td>-0.030513</td>\n",
              "      <td>0.011551</td>\n",
              "      <td>-0.300933</td>\n",
              "      <td>-0.041198</td>\n",
              "      <td>0.230124</td>\n",
              "      <td>0.356374</td>\n",
              "      <td>0.103244</td>\n",
              "      <td>Bahram_Radan</td>\n",
              "      <td>0</td>\n",
              "    </tr>\n",
              "    <tr>\n",
              "      <th>2</th>\n",
              "      <td>2</td>\n",
              "      <td>0.062198</td>\n",
              "      <td>0.274320</td>\n",
              "      <td>0.102746</td>\n",
              "      <td>0.187975</td>\n",
              "      <td>0.236909</td>\n",
              "      <td>0.005364</td>\n",
              "      <td>0.194683</td>\n",
              "      <td>-0.192908</td>\n",
              "      <td>0.569764</td>\n",
              "      <td>...</td>\n",
              "      <td>-0.004102</td>\n",
              "      <td>-0.022593</td>\n",
              "      <td>0.283998</td>\n",
              "      <td>-0.319368</td>\n",
              "      <td>-0.075604</td>\n",
              "      <td>-0.294132</td>\n",
              "      <td>0.374689</td>\n",
              "      <td>0.201106</td>\n",
              "      <td>Bahram_Radan</td>\n",
              "      <td>0</td>\n",
              "    </tr>\n",
              "    <tr>\n",
              "      <th>3</th>\n",
              "      <td>3</td>\n",
              "      <td>0.088835</td>\n",
              "      <td>0.424528</td>\n",
              "      <td>0.151462</td>\n",
              "      <td>0.125330</td>\n",
              "      <td>0.001227</td>\n",
              "      <td>0.109901</td>\n",
              "      <td>0.283745</td>\n",
              "      <td>-0.213615</td>\n",
              "      <td>0.411674</td>\n",
              "      <td>...</td>\n",
              "      <td>0.146300</td>\n",
              "      <td>-0.058955</td>\n",
              "      <td>0.282109</td>\n",
              "      <td>-0.216786</td>\n",
              "      <td>-0.049504</td>\n",
              "      <td>0.195647</td>\n",
              "      <td>0.581766</td>\n",
              "      <td>0.276890</td>\n",
              "      <td>Bahram_Radan</td>\n",
              "      <td>0</td>\n",
              "    </tr>\n",
              "    <tr>\n",
              "      <th>4</th>\n",
              "      <td>4</td>\n",
              "      <td>0.000480</td>\n",
              "      <td>0.052611</td>\n",
              "      <td>0.010194</td>\n",
              "      <td>0.238618</td>\n",
              "      <td>0.061057</td>\n",
              "      <td>0.009371</td>\n",
              "      <td>0.291541</td>\n",
              "      <td>-0.245720</td>\n",
              "      <td>0.464195</td>\n",
              "      <td>...</td>\n",
              "      <td>-0.059220</td>\n",
              "      <td>-0.213212</td>\n",
              "      <td>0.100678</td>\n",
              "      <td>-0.270852</td>\n",
              "      <td>0.099874</td>\n",
              "      <td>-0.123306</td>\n",
              "      <td>0.273968</td>\n",
              "      <td>0.273129</td>\n",
              "      <td>Bahram_Radan</td>\n",
              "      <td>0</td>\n",
              "    </tr>\n",
              "  </tbody>\n",
              "</table>\n",
              "<p>5 rows × 515 columns</p>\n",
              "</div>"
            ],
            "text/plain": [
              "   Unnamed: 0         0         1         2         3         4         5  \\\n",
              "0           0  0.102777  0.437245  0.134822  0.136755  0.125466  0.077529   \n",
              "1           1  0.177933  0.109854  0.366296  0.102263  0.098167  0.074980   \n",
              "2           2  0.062198  0.274320  0.102746  0.187975  0.236909  0.005364   \n",
              "3           3  0.088835  0.424528  0.151462  0.125330  0.001227  0.109901   \n",
              "4           4  0.000480  0.052611  0.010194  0.238618  0.061057  0.009371   \n",
              "\n",
              "          6         7         8  ...       504       505       506       507  \\\n",
              "0  0.205964 -0.155207  0.372008  ...  0.173018  0.077989  0.186178 -0.378087   \n",
              "1  0.071582 -0.139025  0.177708  ... -0.030703 -0.030513  0.011551 -0.300933   \n",
              "2  0.194683 -0.192908  0.569764  ... -0.004102 -0.022593  0.283998 -0.319368   \n",
              "3  0.283745 -0.213615  0.411674  ...  0.146300 -0.058955  0.282109 -0.216786   \n",
              "4  0.291541 -0.245720  0.464195  ... -0.059220 -0.213212  0.100678 -0.270852   \n",
              "\n",
              "        508       509       510       511         Celeb  Celeb_Label  \n",
              "0 -0.067210  0.032544  0.509354  0.153284  Bahram_Radan            0  \n",
              "1 -0.041198  0.230124  0.356374  0.103244  Bahram_Radan            0  \n",
              "2 -0.075604 -0.294132  0.374689  0.201106  Bahram_Radan            0  \n",
              "3 -0.049504  0.195647  0.581766  0.276890  Bahram_Radan            0  \n",
              "4  0.099874 -0.123306  0.273968  0.273129  Bahram_Radan            0  \n",
              "\n",
              "[5 rows x 515 columns]"
            ]
          },
          "execution_count": 3,
          "metadata": {},
          "output_type": "execute_result"
        }
      ],
      "source": [
        "df = pd.read_csv('dataset/dataset.csv')\n",
        "df.head()"
      ]
    },
    {
      "cell_type": "code",
      "execution_count": 32,
      "metadata": {},
      "outputs": [
        {
          "data": {
            "text/html": [
              "<div>\n",
              "<style scoped>\n",
              "    .dataframe tbody tr th:only-of-type {\n",
              "        vertical-align: middle;\n",
              "    }\n",
              "\n",
              "    .dataframe tbody tr th {\n",
              "        vertical-align: top;\n",
              "    }\n",
              "\n",
              "    .dataframe thead th {\n",
              "        text-align: right;\n",
              "    }\n",
              "</style>\n",
              "<table border=\"1\" class=\"dataframe\">\n",
              "  <thead>\n",
              "    <tr style=\"text-align: right;\">\n",
              "      <th></th>\n",
              "      <th>Celeb</th>\n",
              "    </tr>\n",
              "  </thead>\n",
              "  <tbody>\n",
              "    <tr>\n",
              "      <th>0</th>\n",
              "      <td>Bahram_Radan</td>\n",
              "    </tr>\n",
              "    <tr>\n",
              "      <th>1</th>\n",
              "      <td>Ehsan_Alikhani</td>\n",
              "    </tr>\n",
              "    <tr>\n",
              "      <th>2</th>\n",
              "      <td>Behnam_Bani</td>\n",
              "    </tr>\n",
              "    <tr>\n",
              "      <th>3</th>\n",
              "      <td>Asghar_Farhadi</td>\n",
              "    </tr>\n",
              "    <tr>\n",
              "      <th>4</th>\n",
              "      <td>Ebi</td>\n",
              "    </tr>\n",
              "    <tr>\n",
              "      <th>5</th>\n",
              "      <td>Bahare_Rahnama</td>\n",
              "    </tr>\n",
              "    <tr>\n",
              "      <th>6</th>\n",
              "      <td>Ali_Khamenei</td>\n",
              "    </tr>\n",
              "    <tr>\n",
              "      <th>7</th>\n",
              "      <td>Ali_Daei</td>\n",
              "    </tr>\n",
              "    <tr>\n",
              "      <th>8</th>\n",
              "      <td>Dariush_Arjmand</td>\n",
              "    </tr>\n",
              "    <tr>\n",
              "      <th>9</th>\n",
              "      <td>Adel_FerdowsiPour</td>\n",
              "    </tr>\n",
              "    <tr>\n",
              "      <th>10</th>\n",
              "      <td>Golshifteh_Farahani</td>\n",
              "    </tr>\n",
              "    <tr>\n",
              "      <th>11</th>\n",
              "      <td>Elham_Hamidi</td>\n",
              "    </tr>\n",
              "    <tr>\n",
              "      <th>12</th>\n",
              "      <td>Elnaz_Shakerdoost</td>\n",
              "    </tr>\n",
              "    <tr>\n",
              "      <th>13</th>\n",
              "      <td>Leyla_Hatami</td>\n",
              "    </tr>\n",
              "    <tr>\n",
              "      <th>14</th>\n",
              "      <td>Mehran_Ghafourian</td>\n",
              "    </tr>\n",
              "    <tr>\n",
              "      <th>15</th>\n",
              "      <td>Mahnaz_Afshar</td>\n",
              "    </tr>\n",
              "    <tr>\n",
              "      <th>16</th>\n",
              "      <td>Javad_Khiabani</td>\n",
              "    </tr>\n",
              "    <tr>\n",
              "      <th>17</th>\n",
              "      <td>Javad_Razavian</td>\n",
              "    </tr>\n",
              "    <tr>\n",
              "      <th>18</th>\n",
              "      <td>Hootan_Shakiba</td>\n",
              "    </tr>\n",
              "    <tr>\n",
              "      <th>19</th>\n",
              "      <td>Hamid_Lolaei</td>\n",
              "    </tr>\n",
              "    <tr>\n",
              "      <th>20</th>\n",
              "      <td>Mohsen_Chavoshi</td>\n",
              "    </tr>\n",
              "    <tr>\n",
              "      <th>21</th>\n",
              "      <td>Parinaz_Izadyar</td>\n",
              "    </tr>\n",
              "    <tr>\n",
              "      <th>22</th>\n",
              "      <td>Parsa_Pirozfar</td>\n",
              "    </tr>\n",
              "    <tr>\n",
              "      <th>23</th>\n",
              "      <td>Parviz_Parastooee</td>\n",
              "    </tr>\n",
              "    <tr>\n",
              "      <th>24</th>\n",
              "      <td>Siamak_Ansari</td>\n",
              "    </tr>\n",
              "    <tr>\n",
              "      <th>25</th>\n",
              "      <td>Tannaz_Tabatabaee</td>\n",
              "    </tr>\n",
              "    <tr>\n",
              "      <th>26</th>\n",
              "      <td>Shahab_Hosseini</td>\n",
              "    </tr>\n",
              "    <tr>\n",
              "      <th>27</th>\n",
              "      <td>Siavash_Ghomayshi</td>\n",
              "    </tr>\n",
              "    <tr>\n",
              "      <th>28</th>\n",
              "      <td>Mehran_Modiri</td>\n",
              "    </tr>\n",
              "    <tr>\n",
              "      <th>29</th>\n",
              "      <td>Taraneh_Alidoosti</td>\n",
              "    </tr>\n",
              "  </tbody>\n",
              "</table>\n",
              "</div>"
            ],
            "text/plain": [
              "                  Celeb\n",
              "0          Bahram_Radan\n",
              "1        Ehsan_Alikhani\n",
              "2           Behnam_Bani\n",
              "3        Asghar_Farhadi\n",
              "4                   Ebi\n",
              "5        Bahare_Rahnama\n",
              "6          Ali_Khamenei\n",
              "7              Ali_Daei\n",
              "8       Dariush_Arjmand\n",
              "9     Adel_FerdowsiPour\n",
              "10  Golshifteh_Farahani\n",
              "11         Elham_Hamidi\n",
              "12    Elnaz_Shakerdoost\n",
              "13         Leyla_Hatami\n",
              "14    Mehran_Ghafourian\n",
              "15        Mahnaz_Afshar\n",
              "16       Javad_Khiabani\n",
              "17       Javad_Razavian\n",
              "18       Hootan_Shakiba\n",
              "19         Hamid_Lolaei\n",
              "20      Mohsen_Chavoshi\n",
              "21      Parinaz_Izadyar\n",
              "22       Parsa_Pirozfar\n",
              "23    Parviz_Parastooee\n",
              "24        Siamak_Ansari\n",
              "25    Tannaz_Tabatabaee\n",
              "26      Shahab_Hosseini\n",
              "27    Siavash_Ghomayshi\n",
              "28        Mehran_Modiri\n",
              "29    Taraneh_Alidoosti"
            ]
          },
          "execution_count": 32,
          "metadata": {},
          "output_type": "execute_result"
        }
      ],
      "source": [
        "celebs = df[['Celeb']].drop_duplicates().reset_index(drop=True)\n",
        "celebs"
      ]
    },
    {
      "cell_type": "code",
      "execution_count": 4,
      "metadata": {
        "colab": {
          "base_uri": "https://localhost:8080/"
        },
        "id": "9eTx_XuhxEiY",
        "outputId": "5566cb78-ad2a-48a2-bad0-ed3bfe391649"
      },
      "outputs": [
        {
          "data": {
            "text/plain": [
              "((1380, 512), (346, 512), (1380, 30), (346, 30))"
            ]
          },
          "execution_count": 4,
          "metadata": {},
          "output_type": "execute_result"
        }
      ],
      "source": [
        "X = df.drop(['Unnamed: 0','Celeb','Celeb_Label'],axis=1).values\n",
        "Y = df['Celeb_Label']\n",
        "Y = np.eye(30)[Y]\n",
        "\n",
        "X_train, X_test, Y_train, Y_test = train_test_split(X, Y, test_size=.2)\n",
        "X_train.shape, X_test.shape, Y_train.shape, Y_test.shape"
      ]
    },
    {
      "cell_type": "code",
      "execution_count": 5,
      "metadata": {
        "id": "n5jDSbB8ykoW"
      },
      "outputs": [],
      "source": [
        "model = tf.keras.models.Sequential([\n",
        "tf.keras.layers.Dense(512, activation='sigmoid'),\n",
        "tf.keras.layers.Dense(1080, activation='relu'),\n",
        "tf.keras.layers.Dense(720, activation='relu'),\n",
        "tf.keras.layers.Dense(30, activation='softmax')])"
      ]
    },
    {
      "cell_type": "code",
      "execution_count": 6,
      "metadata": {
        "id": "Uda21yy5zaBd"
      },
      "outputs": [],
      "source": [
        "model.compile(optimizer=tf.keras.optimizers.Adam(learning_rate=0.001),\n",
        "              loss=tf.keras.losses.binary_crossentropy,\n",
        "              metrics=['accuracy'])"
      ]
    },
    {
      "cell_type": "code",
      "execution_count": 7,
      "metadata": {
        "colab": {
          "base_uri": "https://localhost:8080/"
        },
        "id": "hVdJsfU-zffj",
        "outputId": "12f05d02-1c64-46a5-ae8c-ab9498c0843b"
      },
      "outputs": [
        {
          "name": "stdout",
          "output_type": "stream",
          "text": [
            "Epoch 1/50\n",
            "44/44 [==============================] - 3s 34ms/step - loss: 0.1772 - accuracy: 0.0717\n",
            "Epoch 2/50\n",
            "44/44 [==============================] - 1s 34ms/step - loss: 0.1337 - accuracy: 0.1877\n",
            "Epoch 3/50\n",
            "44/44 [==============================] - 1s 33ms/step - loss: 0.1027 - accuracy: 0.4971\n",
            "Epoch 4/50\n",
            "44/44 [==============================] - 1s 32ms/step - loss: 0.0646 - accuracy: 0.7362\n",
            "Epoch 5/50\n",
            "44/44 [==============================] - 1s 32ms/step - loss: 0.0410 - accuracy: 0.8522\n",
            "Epoch 6/50\n",
            "44/44 [==============================] - 1s 32ms/step - loss: 0.0320 - accuracy: 0.8717\n",
            "Epoch 7/50\n",
            "44/44 [==============================] - 1s 32ms/step - loss: 0.0242 - accuracy: 0.9014\n",
            "Epoch 8/50\n",
            "44/44 [==============================] - 1s 33ms/step - loss: 0.0204 - accuracy: 0.9072\n",
            "Epoch 9/50\n",
            "44/44 [==============================] - 1s 33ms/step - loss: 0.0186 - accuracy: 0.9174\n",
            "Epoch 10/50\n",
            "44/44 [==============================] - 2s 38ms/step - loss: 0.0167 - accuracy: 0.9130\n",
            "Epoch 11/50\n",
            "44/44 [==============================] - 2s 36ms/step - loss: 0.0152 - accuracy: 0.9254\n",
            "Epoch 12/50\n",
            "44/44 [==============================] - 2s 40ms/step - loss: 0.0158 - accuracy: 0.9196\n",
            "Epoch 13/50\n",
            "44/44 [==============================] - 2s 38ms/step - loss: 0.0136 - accuracy: 0.9254\n",
            "Epoch 14/50\n",
            "44/44 [==============================] - 2s 37ms/step - loss: 0.0117 - accuracy: 0.9333\n",
            "Epoch 15/50\n",
            "44/44 [==============================] - 2s 37ms/step - loss: 0.0121 - accuracy: 0.9319\n",
            "Epoch 16/50\n",
            "44/44 [==============================] - 2s 38ms/step - loss: 0.0118 - accuracy: 0.9355\n",
            "Epoch 17/50\n",
            "44/44 [==============================] - 2s 37ms/step - loss: 0.0109 - accuracy: 0.9413\n",
            "Epoch 18/50\n",
            "44/44 [==============================] - 2s 36ms/step - loss: 0.0101 - accuracy: 0.9449\n",
            "Epoch 19/50\n",
            "44/44 [==============================] - 2s 35ms/step - loss: 0.0102 - accuracy: 0.9413\n",
            "Epoch 20/50\n",
            "44/44 [==============================] - 2s 37ms/step - loss: 0.0097 - accuracy: 0.9449\n",
            "Epoch 21/50\n",
            "44/44 [==============================] - 2s 37ms/step - loss: 0.0092 - accuracy: 0.9471\n",
            "Epoch 22/50\n",
            "44/44 [==============================] - 2s 37ms/step - loss: 0.0094 - accuracy: 0.9471\n",
            "Epoch 23/50\n",
            "44/44 [==============================] - 2s 36ms/step - loss: 0.0086 - accuracy: 0.9565\n",
            "Epoch 24/50\n",
            "44/44 [==============================] - 2s 36ms/step - loss: 0.0084 - accuracy: 0.9522\n",
            "Epoch 25/50\n",
            "44/44 [==============================] - 2s 36ms/step - loss: 0.0079 - accuracy: 0.9572\n",
            "Epoch 26/50\n",
            "44/44 [==============================] - 2s 36ms/step - loss: 0.0082 - accuracy: 0.9601\n",
            "Epoch 27/50\n",
            "44/44 [==============================] - 2s 35ms/step - loss: 0.0085 - accuracy: 0.9551\n",
            "Epoch 28/50\n",
            "44/44 [==============================] - 2s 37ms/step - loss: 0.0081 - accuracy: 0.9558\n",
            "Epoch 29/50\n",
            "44/44 [==============================] - 2s 37ms/step - loss: 0.0072 - accuracy: 0.9623\n",
            "Epoch 30/50\n",
            "44/44 [==============================] - 2s 36ms/step - loss: 0.0093 - accuracy: 0.9478\n",
            "Epoch 31/50\n",
            "44/44 [==============================] - 2s 36ms/step - loss: 0.0071 - accuracy: 0.9609\n",
            "Epoch 32/50\n",
            "44/44 [==============================] - 2s 35ms/step - loss: 0.0082 - accuracy: 0.9558\n",
            "Epoch 33/50\n",
            "44/44 [==============================] - 2s 36ms/step - loss: 0.0067 - accuracy: 0.9609\n",
            "Epoch 34/50\n",
            "44/44 [==============================] - 2s 37ms/step - loss: 0.0060 - accuracy: 0.9674\n",
            "Epoch 35/50\n",
            "44/44 [==============================] - 2s 36ms/step - loss: 0.0061 - accuracy: 0.9638\n",
            "Epoch 36/50\n",
            "44/44 [==============================] - 2s 36ms/step - loss: 0.0060 - accuracy: 0.9681\n",
            "Epoch 37/50\n",
            "44/44 [==============================] - 2s 36ms/step - loss: 0.0067 - accuracy: 0.9616\n",
            "Epoch 38/50\n",
            "44/44 [==============================] - 2s 36ms/step - loss: 0.0065 - accuracy: 0.9638\n",
            "Epoch 39/50\n",
            "44/44 [==============================] - 2s 37ms/step - loss: 0.0065 - accuracy: 0.9630\n",
            "Epoch 40/50\n",
            "44/44 [==============================] - 2s 38ms/step - loss: 0.0054 - accuracy: 0.9681\n",
            "Epoch 41/50\n",
            "44/44 [==============================] - 2s 36ms/step - loss: 0.0057 - accuracy: 0.9674\n",
            "Epoch 42/50\n",
            "44/44 [==============================] - 2s 37ms/step - loss: 0.0056 - accuracy: 0.9674\n",
            "Epoch 43/50\n",
            "44/44 [==============================] - 2s 37ms/step - loss: 0.0069 - accuracy: 0.9630\n",
            "Epoch 44/50\n",
            "44/44 [==============================] - 2s 37ms/step - loss: 0.0067 - accuracy: 0.9674\n",
            "Epoch 45/50\n",
            "44/44 [==============================] - 2s 38ms/step - loss: 0.0056 - accuracy: 0.9688\n",
            "Epoch 46/50\n",
            "44/44 [==============================] - 2s 36ms/step - loss: 0.0045 - accuracy: 0.9783\n",
            "Epoch 47/50\n",
            "44/44 [==============================] - 2s 36ms/step - loss: 0.0048 - accuracy: 0.9725\n",
            "Epoch 48/50\n",
            "44/44 [==============================] - 2s 37ms/step - loss: 0.0039 - accuracy: 0.9775\n",
            "Epoch 49/50\n",
            "44/44 [==============================] - 2s 36ms/step - loss: 0.0045 - accuracy: 0.9732\n",
            "Epoch 50/50\n",
            "44/44 [==============================] - 2s 37ms/step - loss: 0.0052 - accuracy: 0.9696\n"
          ]
        },
        {
          "data": {
            "text/plain": [
              "<keras.callbacks.History at 0x24ff42e3fa0>"
            ]
          },
          "execution_count": 7,
          "metadata": {},
          "output_type": "execute_result"
        }
      ],
      "source": [
        "model.fit(X_train, Y_train, epochs=50)"
      ]
    },
    {
      "cell_type": "code",
      "execution_count": 8,
      "metadata": {
        "colab": {
          "base_uri": "https://localhost:8080/"
        },
        "id": "3dTU7Hn_zrlD",
        "outputId": "f223d08d-4055-49c2-d546-e4739833bb03"
      },
      "outputs": [
        {
          "name": "stdout",
          "output_type": "stream",
          "text": [
            "11/11 [==============================] - 0s 7ms/step - loss: 0.0321 - accuracy: 0.8728\n"
          ]
        },
        {
          "data": {
            "text/plain": [
              "[0.032120801508426666, 0.8728323578834534]"
            ]
          },
          "execution_count": 8,
          "metadata": {},
          "output_type": "execute_result"
        }
      ],
      "source": [
        "model.evaluate(X_test, Y_test)"
      ]
    },
    {
      "cell_type": "code",
      "execution_count": 44,
      "metadata": {
        "colab": {
          "base_uri": "https://localhost:8080/"
        },
        "id": "QglB6IjI0HCL",
        "outputId": "c7f0958a-22de-4fb5-e841-544e3450ac5d"
      },
      "outputs": [
        {
          "name": "stdout",
          "output_type": "stream",
          "text": [
            "1/1 [==============================] - 0s 30ms/step\n"
          ]
        },
        {
          "data": {
            "text/plain": [
              "'Adel_FerdowsiPour'"
            ]
          },
          "execution_count": 44,
          "metadata": {},
          "output_type": "execute_result"
        }
      ],
      "source": [
        "embedding_objs = DeepFace.represent(img_path = 'pics/Adel_FerdowsiPour.jpg', model_name='ArcFace', enforce_detection=False)\n",
        "predict = model.predict(np.array([embedding_objs[0]['embedding']]))\n",
        "celebs['Celeb'][np.argmax(predict)]"
      ]
    },
    {
      "cell_type": "code",
      "execution_count": 10,
      "metadata": {
        "id": "izi1ZkKEyQJ5"
      },
      "outputs": [],
      "source": [
        "model.save('celebrity_recognizer_model.h5')"
      ]
    }
  ],
  "metadata": {
    "colab": {
      "provenance": []
    },
    "kernelspec": {
      "display_name": "Python 3",
      "name": "python3"
    },
    "language_info": {
      "codemirror_mode": {
        "name": "ipython",
        "version": 3
      },
      "file_extension": ".py",
      "mimetype": "text/x-python",
      "name": "python",
      "nbconvert_exporter": "python",
      "pygments_lexer": "ipython3",
      "version": "3.10.8"
    }
  },
  "nbformat": 4,
  "nbformat_minor": 0
}
