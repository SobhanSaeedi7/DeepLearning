{
  "nbformat": 4,
  "nbformat_minor": 0,
  "metadata": {
    "colab": {
      "provenance": [],
      "gpuType": "T4"
    },
    "kernelspec": {
      "name": "python3",
      "display_name": "Python 3"
    },
    "language_info": {
      "name": "python"
    },
    "accelerator": "GPU"
  },
  "cells": [
    {
      "cell_type": "code",
      "source": [
        "import os\n",
        "import shutil\n",
        "import xml.etree.ElementTree as ET"
      ],
      "metadata": {
        "id": "sZJ6_KWUmDh9"
      },
      "execution_count": 4,
      "outputs": []
    },
    {
      "cell_type": "code",
      "execution_count": 2,
      "metadata": {
        "id": "3z-xjD6Elt24"
      },
      "outputs": [],
      "source": [
        "shutil.unpack_archive('drive/MyDrive/PyLearn 7 Course/57.OCR/plate_img-validation.zip',\n",
        "                      'data/validation')"
      ]
    },
    {
      "cell_type": "code",
      "source": [
        "Fa_letters = ['الف', 'ب', 'پ', 'ت', 'ث',\n",
        "              'ز', 'ش', 'ع', 'ف', 'ک',\n",
        "              'گ', 'D', 'S', 'ج', 'د',\n",
        "              'س', 'ص', 'ط', 'ق', 'ل',\n",
        "              'م', 'ن', 'و', 'ه‍', 'ی',\n",
        "              '۰', '۱', '۲', '۳', '۴',\n",
        "              '۵', '۶', '۷', '۸', '۹', 'ویلچر']\n",
        "\n",
        "En_letters =  ['A', 'B', 'P', 'T', 'Y',\n",
        "               'Z', 'X', 'E', 'F', 'K',\n",
        "               'G', 'D', 'S', 'J', 'W',\n",
        "               'C', 'U', 'R', 'Q', 'L',\n",
        "               'M', 'N', 'V', 'H', 'I',\n",
        "               '0', '1', '2', '3', '4',\n",
        "               '5', '6', '7', '8', '9', '@']"
      ],
      "metadata": {
        "id": "n8XWdTm-ZcaJ"
      },
      "execution_count": 34,
      "outputs": []
    },
    {
      "cell_type": "code",
      "source": [
        "path = 'data/validation/validation'\n",
        "plates = []\n",
        "for filename in os.listdir(path):\n",
        "  if filename.split('.')[1] == 'xml':\n",
        "    tree = ET.parse(path+'/'+filename)\n",
        "    root = tree.getroot()\n",
        "    plate = ''\n",
        "    for obj in root.findall('.//object'):\n",
        "      name = obj.find('name').text\n",
        "      if name in Fa_letters:\n",
        "        name = En_letters[Fa_letters.index(name)]\n",
        "      plate += name\n",
        "    plate_list = [path+'/'+filename.split('.')[0]+'.jpg', plate]\n",
        "    plates.append(plate_list)"
      ],
      "metadata": {
        "id": "WN5UjZMDRPtm"
      },
      "execution_count": 38,
      "outputs": []
    }
  ]
}