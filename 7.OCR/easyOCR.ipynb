{
  "nbformat": 4,
  "nbformat_minor": 0,
  "metadata": {
    "colab": {
      "provenance": []
    },
    "kernelspec": {
      "name": "python3",
      "display_name": "Python 3"
    },
    "language_info": {
      "name": "python"
    }
  },
  "cells": [
    {
      "cell_type": "code",
      "source": [
        "!pip install -q easyocr"
      ],
      "metadata": {
        "id": "RzY6sGnE_EVc"
      },
      "execution_count": 2,
      "outputs": []
    },
    {
      "cell_type": "code",
      "source": [
        "import easyocr"
      ],
      "metadata": {
        "id": "S4iu2upb_IEj"
      },
      "execution_count": 3,
      "outputs": []
    },
    {
      "cell_type": "code",
      "source": [
        "reader = easyocr.Reader(['en'])\n",
        "result = reader.readtext('chinese.jpg')\n",
        "result"
      ],
      "metadata": {
        "colab": {
          "base_uri": "https://localhost:8080/"
        },
        "id": "dT6EiHHc_Ovc",
        "outputId": "09fade31-a41d-4f41-f190-7bdedeb34b3a"
      },
      "execution_count": 4,
      "outputs": [
        {
          "output_type": "stream",
          "name": "stderr",
          "text": [
            "WARNING:easyocr.easyocr:Neither CUDA nor MPS are available - defaulting to CPU. Note: This module is much faster with a GPU.\n",
            "WARNING:easyocr.easyocr:Downloading detection model, please wait. This may take several minutes depending upon your network connection.\n"
          ]
        },
        {
          "output_type": "stream",
          "name": "stdout",
          "text": [
            "Progress: |██████████████████████████████████████████████████| 100.0% Complete"
          ]
        },
        {
          "output_type": "stream",
          "name": "stderr",
          "text": [
            "WARNING:easyocr.easyocr:Downloading recognition model, please wait. This may take several minutes depending upon your network connection.\n"
          ]
        },
        {
          "output_type": "stream",
          "name": "stdout",
          "text": [
            "Progress: |██████████████████████████████████████████████████| 100.0% Complete"
          ]
        },
        {
          "output_type": "execute_result",
          "data": {
            "text/plain": [
              "[([[86, 80], [134, 80], [134, 128], [86, 128]], 'pG', 0.038023453785426084),\n",
              " ([[189, 75], [469, 75], [469, 165], [189, 165]],\n",
              "  '# @ ER',\n",
              "  0.19568124354598365),\n",
              " ([[517, 81], [565, 81], [565, 123], [517, 123]], '#', 0.41429229885820007),\n",
              " ([[78, 126], [136, 126], [136, 156], [78, 156]], '315', 0.9970163106918335),\n",
              " ([[514, 126], [574, 126], [574, 156], [514, 156]], '309', 0.999991465640968),\n",
              " ([[79, 173], [125, 173], [125, 213], [79, 213]], 'W', 0.8494300289646759),\n",
              " ([[226, 170], [414, 170], [414, 220], [226, 220]],\n",
              "  'Yuyuan Rd.',\n",
              "  0.7927825027840631),\n",
              " ([[529, 173], [569, 173], [569, 213], [529, 213]], 'E', 0.9995631456746459)]"
            ]
          },
          "metadata": {},
          "execution_count": 4
        }
      ]
    },
    {
      "cell_type": "code",
      "execution_count": 5,
      "metadata": {
        "colab": {
          "base_uri": "https://localhost:8080/"
        },
        "id": "OP-eYoXN_A--",
        "outputId": "7fd737c2-e73c-4ab2-c685-faf54a20a284"
      },
      "outputs": [
        {
          "output_type": "stream",
          "name": "stdout",
          "text": [
            "([[78, 126], [136, 126], [136, 156], [78, 156]], '315', 0.9970163106918335)\n",
            "([[514, 126], [574, 126], [574, 156], [514, 156]], '309', 0.999991465640968)\n",
            "([[79, 173], [125, 173], [125, 213], [79, 213]], 'W', 0.8494300289646759)\n",
            "([[226, 170], [414, 170], [414, 220], [226, 220]], 'Yuyuan Rd.', 0.7927825027840631)\n",
            "([[529, 173], [569, 173], [569, 213], [529, 213]], 'E', 0.9995631456746459)\n"
          ]
        }
      ],
      "source": [
        "for item in result:\n",
        "    if item[2] > 0.5:\n",
        "        print(item)"
      ]
    }
  ]
}