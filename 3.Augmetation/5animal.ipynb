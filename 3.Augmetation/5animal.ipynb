{
  "nbformat": 4,
  "nbformat_minor": 0,
  "metadata": {
    "colab": {
      "provenance": [],
      "gpuType": "T4"
    },
    "kernelspec": {
      "name": "python3",
      "display_name": "Python 3"
    },
    "language_info": {
      "name": "python"
    },
    "accelerator": "GPU"
  },
  "cells": [
    {
      "cell_type": "code",
      "source": [
        "from google.colab import drive\n",
        "drive.mount('/content/drive')"
      ],
      "metadata": {
        "colab": {
          "base_uri": "https://localhost:8080/"
        },
        "id": "KeclJpCm_7wO",
        "outputId": "e019fc54-467f-4ebe-cff6-3177be7f7801"
      },
      "execution_count": 7,
      "outputs": [
        {
          "output_type": "stream",
          "name": "stdout",
          "text": [
            "Drive already mounted at /content/drive; to attempt to forcibly remount, call drive.mount(\"/content/drive\", force_remount=True).\n"
          ]
        }
      ]
    },
    {
      "cell_type": "code",
      "execution_count": 71,
      "metadata": {
        "id": "gcIL6eVmwDjQ"
      },
      "outputs": [],
      "source": [
        "import tensorflow as tf\n",
        "import numpy as np\n",
        "import matplotlib.pyplot as plt\n",
        "from tensorflow.keras import layers, models\n",
        "from tensorflow.keras.preprocessing.image import ImageDataGenerator\n",
        "from sklearn import metrics"
      ]
    },
    {
      "cell_type": "code",
      "source": [
        "dataset_path = '/content/drive/MyDrive/datasets/5Animals'\n",
        "\n",
        "# image augmentation\n",
        "idg = ImageDataGenerator(\n",
        "    rescale=1./255,\n",
        "    rotation_range=20,\n",
        "    zoom_range=0.2,\n",
        "    horizontal_flip=True,\n",
        "    validation_split=0.2\n",
        ")\n",
        "\n",
        "dataset_train = idg.flow_from_directory(\n",
        "    dataset_path,\n",
        "    shuffle=True,\n",
        "    subset='training',\n",
        "    target_size=(224, 224)\n",
        ")\n",
        "\n",
        "dataset_validation = idg.flow_from_directory(\n",
        "    dataset_path,\n",
        "    shuffle=True,\n",
        "    subset='validation',\n",
        "    target_size=(224, 224)\n",
        "\n",
        ")"
      ],
      "metadata": {
        "colab": {
          "base_uri": "https://localhost:8080/"
        },
        "id": "3Mt4WxANNi7K",
        "outputId": "20d4e65b-9cac-436a-9f0a-98531b11f7d4"
      },
      "execution_count": 2,
      "outputs": [
        {
          "output_type": "stream",
          "name": "stdout",
          "text": [
            "Found 1042 images belonging to 5 classes.\n",
            "Found 257 images belonging to 5 classes.\n"
          ]
        }
      ]
    },
    {
      "cell_type": "code",
      "source": [
        "model = models.Sequential([\n",
        "    layers.Conv2D(64, (3, 3), strides=(2, 2), activation='relu', padding='same', input_shape=(224, 224, 3)),\n",
        "    layers.MaxPooling2D(),\n",
        "    layers.Conv2D(128, (3, 3), strides=(2, 2), activation='relu', padding='same'),\n",
        "    layers.MaxPooling2D(),\n",
        "    layers.Conv2D(265, (3, 3), strides=(2, 2), activation='relu', padding='same'),\n",
        "    layers.MaxPooling2D(),\n",
        "\n",
        "    layers.Flatten(),\n",
        "\n",
        "    layers.Dense(4096, activation='relu'),\n",
        "    layers.Dense(1024, activation='relu'),\n",
        "    layers.Dense(5, activation='softmax')\n",
        "])"
      ],
      "metadata": {
        "id": "lcmT4D7fW2mJ"
      },
      "execution_count": 6,
      "outputs": []
    },
    {
      "cell_type": "code",
      "source": [
        "model.compile(optimizer=tf.keras.optimizers.Adam(learning_rate=0.001),\n",
        "              loss=tf.keras.losses.categorical_crossentropy,\n",
        "              metrics=['accuracy']\n",
        "              )"
      ],
      "metadata": {
        "id": "SjS-fpVsCknr"
      },
      "execution_count": 7,
      "outputs": []
    },
    {
      "cell_type": "code",
      "source": [
        "history = model.fit(dataset_train,\n",
        "                    validation_data=dataset_validation,\n",
        "                    epochs=20)"
      ],
      "metadata": {
        "colab": {
          "base_uri": "https://localhost:8080/"
        },
        "id": "fUEyM0K1FGkN",
        "outputId": "709a094b-f447-46b8-ab51-d7a888d63d49"
      },
      "execution_count": 8,
      "outputs": [
        {
          "output_type": "stream",
          "name": "stdout",
          "text": [
            "Epoch 1/20\n",
            "33/33 [==============================] - 40s 1s/step - loss: 1.5898 - accuracy: 0.2572 - val_loss: 1.4900 - val_accuracy: 0.3463\n",
            "Epoch 2/20\n",
            "33/33 [==============================] - 32s 991ms/step - loss: 1.3893 - accuracy: 0.3666 - val_loss: 1.3705 - val_accuracy: 0.4202\n",
            "Epoch 3/20\n",
            "33/33 [==============================] - 33s 996ms/step - loss: 1.3416 - accuracy: 0.3973 - val_loss: 1.3422 - val_accuracy: 0.4008\n",
            "Epoch 4/20\n",
            "33/33 [==============================] - 33s 1s/step - loss: 1.2863 - accuracy: 0.4194 - val_loss: 1.2722 - val_accuracy: 0.4397\n",
            "Epoch 5/20\n",
            "33/33 [==============================] - 32s 989ms/step - loss: 1.1988 - accuracy: 0.4894 - val_loss: 1.1413 - val_accuracy: 0.5136\n",
            "Epoch 6/20\n",
            "33/33 [==============================] - 32s 986ms/step - loss: 1.1074 - accuracy: 0.5422 - val_loss: 1.1609 - val_accuracy: 0.5097\n",
            "Epoch 7/20\n",
            "33/33 [==============================] - 33s 995ms/step - loss: 1.0008 - accuracy: 0.5777 - val_loss: 1.0701 - val_accuracy: 0.5370\n",
            "Epoch 8/20\n",
            "33/33 [==============================] - 33s 1000ms/step - loss: 1.0085 - accuracy: 0.5816 - val_loss: 1.0254 - val_accuracy: 0.5759\n",
            "Epoch 9/20\n",
            "33/33 [==============================] - 38s 1s/step - loss: 0.8530 - accuracy: 0.6545 - val_loss: 1.0117 - val_accuracy: 0.5759\n",
            "Epoch 10/20\n",
            "33/33 [==============================] - 32s 990ms/step - loss: 0.8017 - accuracy: 0.6670 - val_loss: 1.0493 - val_accuracy: 0.6148\n",
            "Epoch 11/20\n",
            "33/33 [==============================] - 33s 995ms/step - loss: 0.7303 - accuracy: 0.7035 - val_loss: 0.9604 - val_accuracy: 0.6304\n",
            "Epoch 12/20\n",
            "33/33 [==============================] - 33s 988ms/step - loss: 0.7631 - accuracy: 0.6948 - val_loss: 0.9430 - val_accuracy: 0.6459\n",
            "Epoch 13/20\n",
            "33/33 [==============================] - 33s 995ms/step - loss: 0.7166 - accuracy: 0.6996 - val_loss: 0.9863 - val_accuracy: 0.6148\n",
            "Epoch 14/20\n",
            "33/33 [==============================] - 32s 962ms/step - loss: 0.7623 - accuracy: 0.6891 - val_loss: 0.9508 - val_accuracy: 0.6109\n",
            "Epoch 15/20\n",
            "33/33 [==============================] - 32s 966ms/step - loss: 0.5854 - accuracy: 0.7591 - val_loss: 0.9664 - val_accuracy: 0.6693\n",
            "Epoch 16/20\n",
            "33/33 [==============================] - 33s 1s/step - loss: 0.6521 - accuracy: 0.7303 - val_loss: 1.0139 - val_accuracy: 0.6498\n",
            "Epoch 17/20\n",
            "33/33 [==============================] - 33s 988ms/step - loss: 0.5552 - accuracy: 0.7831 - val_loss: 0.9480 - val_accuracy: 0.7043\n",
            "Epoch 18/20\n",
            "33/33 [==============================] - 32s 976ms/step - loss: 0.4893 - accuracy: 0.8061 - val_loss: 1.0827 - val_accuracy: 0.6342\n",
            "Epoch 19/20\n",
            "33/33 [==============================] - 32s 974ms/step - loss: 0.4952 - accuracy: 0.7850 - val_loss: 0.9982 - val_accuracy: 0.6615\n",
            "Epoch 20/20\n",
            "33/33 [==============================] - 32s 975ms/step - loss: 0.4874 - accuracy: 0.8100 - val_loss: 1.1153 - val_accuracy: 0.6498\n"
          ]
        }
      ]
    },
    {
      "cell_type": "code",
      "source": [
        "X_vall, Y_vall = dataset_validation[0]\n",
        "\n",
        "Y_pred = model.predict(X_vall)"
      ],
      "metadata": {
        "colab": {
          "base_uri": "https://localhost:8080/"
        },
        "id": "Uf2yZTI1d72Y",
        "outputId": "7fc81575-d400-4a6d-eb07-0e46e783b137"
      },
      "execution_count": 67,
      "outputs": [
        {
          "output_type": "stream",
          "name": "stdout",
          "text": [
            "1/1 [==============================] - 0s 34ms/step\n"
          ]
        }
      ]
    },
    {
      "cell_type": "code",
      "source": [
        "Y_vall = np.argmax(Y_vall, axis=1)\n",
        "Y_pred = np.argmax(Y_pred, axis=1)"
      ],
      "metadata": {
        "id": "9JnWh_YseQnR"
      },
      "execution_count": 68,
      "outputs": []
    },
    {
      "cell_type": "code",
      "source": [
        "confusion_matrix = metrics.confusion_matrix(Y_pred, Y_vall)\n",
        "\n",
        "cm_display = metrics.ConfusionMatrixDisplay(confusion_matrix = confusion_matrix, display_labels = ['cat', 'dog', 'elephant', 'giraffe', 'panda'])\n",
        "\n",
        "cm_display.plot(cmap='YlGnBu')\n",
        "plt.show()"
      ],
      "metadata": {
        "colab": {
          "base_uri": "https://localhost:8080/",
          "height": 455
        },
        "id": "S668VR6gYmgn",
        "outputId": "0a3ff2cb-2f36-45db-d7d0-f1541799c091"
      },
      "execution_count": 72,
      "outputs": [
        {
          "output_type": "display_data",
          "data": {
            "text/plain": [
              "<Figure size 640x480 with 2 Axes>"
            ],
            "image/png": "[encoded data removed]"
          },
          "metadata": {}
        }
      ]
    },
    {
      "cell_type": "code",
      "source": [
        "import cv2"
      ],
      "metadata": {
        "id": "1pL5nRYcgC49"
      },
      "execution_count": 73,
      "outputs": []
    },
    {
      "cell_type": "code",
      "source": [
        "img = cv2.imread('pics/giraffe.jpg')\n",
        "img = cv2.resize(img, (224,224))\n",
        "img = np.array(img)/255\n",
        "img = np.expand_dims(img, axis=0)\n",
        "\n",
        "output = model.predict(img)\n",
        "output = np.argmax(output)\n",
        "\n",
        "animals = ['cat', 'dog', 'elephant', 'giraffe', 'panda']\n",
        "animal = animals[output]\n",
        "print(animal)"
      ],
      "metadata": {
        "colab": {
          "base_uri": "https://localhost:8080/"
        },
        "id": "ctUySQOtgJnE",
        "outputId": "d047b5eb-1a39-4229-d801-4e5132bb2a56"
      },
      "execution_count": 77,
      "outputs": [
        {
          "output_type": "stream",
          "name": "stdout",
          "text": [
            "1/1 [==============================] - 0s 75ms/step\n",
            "giraffe\n"
          ]
        }
      ]
    }
  ]
}