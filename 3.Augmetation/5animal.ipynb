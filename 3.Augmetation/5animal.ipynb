{
  "nbformat": 4,
  "nbformat_minor": 0,
  "metadata": {
    "colab": {
      "provenance": [],
      "gpuType": "T4"
    },
    "kernelspec": {
      "name": "python3",
      "display_name": "Python 3"
    },
    "language_info": {
      "name": "python"
    },
    "accelerator": "GPU"
  },
  "cells": [
    {
      "cell_type": "code",
      "source": [
        "from google.colab import drive\n",
        "drive.mount('/content/drive')"
      ],
      "metadata": {
        "colab": {
          "base_uri": "https://localhost:8080/"
        },
        "id": "KeclJpCm_7wO",
        "outputId": "e019fc54-467f-4ebe-cff6-3177be7f7801"
      },
      "execution_count": 7,
      "outputs": [
        {
          "output_type": "stream",
          "name": "stdout",
          "text": [
            "Drive already mounted at /content/drive; to attempt to forcibly remount, call drive.mount(\"/content/drive\", force_remount=True).\n"
          ]
        }
      ]
    },
    {
      "cell_type": "code",
      "execution_count": 1,
      "metadata": {
        "id": "gcIL6eVmwDjQ"
      },
      "outputs": [],
      "source": [
        "import tensorflow as tf\n",
        "from tensorflow.keras import layers, models\n",
        "from tensorflow.keras.preprocessing.image import ImageDataGenerator"
      ]
    },
    {
      "cell_type": "code",
      "source": [
        "dataset_path = '/content/drive/MyDrive/datasets/5Animals'\n",
        "\n",
        "# image augmentation\n",
        "idg = ImageDataGenerator(\n",
        "    rescale=1./255,\n",
        "    rotation_range=20,\n",
        "    zoom_range=0.2,\n",
        "    horizontal_flip=True,\n",
        "    validation_split=0.2\n",
        ")\n",
        "\n",
        "dataset_train = idg.flow_from_directory(\n",
        "    dataset_path,\n",
        "    shuffle=True,\n",
        "    subset='training',\n",
        "    target_size=(224, 224)\n",
        ")\n",
        "\n",
        "dataset_validation = idg.flow_from_directory(\n",
        "    dataset_path,\n",
        "    shuffle=True,\n",
        "    subset='validation',\n",
        "    target_size=(224, 224)\n",
        "\n",
        ")"
      ],
      "metadata": {
        "colab": {
          "base_uri": "https://localhost:8080/"
        },
        "id": "3Mt4WxANNi7K",
        "outputId": "20d4e65b-9cac-436a-9f0a-98531b11f7d4"
      },
      "execution_count": 2,
      "outputs": [
        {
          "output_type": "stream",
          "name": "stdout",
          "text": [
            "Found 1042 images belonging to 5 classes.\n",
            "Found 257 images belonging to 5 classes.\n"
          ]
        }
      ]
    },
    {
      "cell_type": "code",
      "source": [
        "model = models.Sequential([\n",
        "    layers.Conv2D(64, (3, 3), strides=(2, 2), activation='relu', padding='same', input_shape=(224, 224, 3)),\n",
        "    layers.Conv2D(64, (3, 3), strides=(2, 2), activation='relu', padding='same'),\n",
        "    layers.MaxPooling2D(),\n",
        "    layers.Conv2D(128, (3, 3), strides=(1, 1), activation='relu', padding='same'),\n",
        "    layers.Conv2D(128, (3, 3), strides=(1, 1), activation='relu', padding='same'),\n",
        "    layers.MaxPooling2D(),\n",
        "    layers.Conv2D(265, (3, 3), strides=(1, 1), activation='relu', padding='same'),\n",
        "    layers.Conv2D(265, (3, 3), strides=(1, 1), activation='relu', padding='same'),\n",
        "    layers.Conv2D(265, (3, 3), strides=(1, 1), activation='relu', padding='same'),\n",
        "    layers.MaxPooling2D(),\n",
        "    layers.Conv2D(512, (3, 3), strides=(1, 1), activation='relu', padding='same'),\n",
        "    layers.Conv2D(512, (3, 3), strides=(1, 1), activation='relu', padding='same'),\n",
        "    layers.Conv2D(512, (3, 3), strides=(1, 1), activation='relu', padding='same'),\n",
        "    layers.MaxPooling2D(),\n",
        "    layers.Conv2D(512, (3, 3), strides=(1, 1), activation='relu', padding='same'),\n",
        "    layers.Conv2D(512, (3, 3), strides=(1, 1), activation='relu', padding='same'),\n",
        "    layers.Conv2D(512, (3, 3), strides=(1, 1), activation='relu', padding='same'),\n",
        "    layers.MaxPooling2D(),\n",
        "\n",
        "    layers.Flatten(),\n",
        "\n",
        "    layers.Dense(4096, activation='relu'),\n",
        "    layers.Dense(1024, activation='relu'),\n",
        "    layers.Dense(5, activation='softmax')\n",
        "])"
      ],
      "metadata": {
        "id": "lcmT4D7fW2mJ"
      },
      "execution_count": 3,
      "outputs": []
    },
    {
      "cell_type": "code",
      "source": [
        "model.compile(optimizer=tf.keras.optimizers.Adam(learning_rate=0.001),\n",
        "              loss=tf.keras.losses.categorical_crossentropy,\n",
        "              metrics=['accuracy']\n",
        "              )"
      ],
      "metadata": {
        "id": "SjS-fpVsCknr"
      },
      "execution_count": 4,
      "outputs": []
    },
    {
      "cell_type": "code",
      "source": [
        "history = model.fit(dataset_train,\n",
        "                    validation_data=dataset_validation,\n",
        "                    epochs=20)"
      ],
      "metadata": {
        "colab": {
          "base_uri": "https://localhost:8080/"
        },
        "id": "fUEyM0K1FGkN",
        "outputId": "6c736047-a975-4881-856a-d85d0aeb0ac0"
      },
      "execution_count": 5,
      "outputs": [
        {
          "output_type": "stream",
          "name": "stdout",
          "text": [
            "Epoch 1/20\n",
            "33/33 [==============================] - 739s 22s/step - loss: 1.6073 - accuracy: 0.2447 - val_loss: 1.5996 - val_accuracy: 0.2412\n",
            "Epoch 2/20\n",
            "33/33 [==============================] - 34s 1s/step - loss: 1.6009 - accuracy: 0.2409 - val_loss: 1.5986 - val_accuracy: 0.2412\n",
            "Epoch 3/20\n",
            "33/33 [==============================] - 34s 1s/step - loss: 1.5995 - accuracy: 0.2409 - val_loss: 1.5999 - val_accuracy: 0.2412\n",
            "Epoch 4/20\n",
            "33/33 [==============================] - 38s 1s/step - loss: 1.6002 - accuracy: 0.2409 - val_loss: 1.5986 - val_accuracy: 0.2412\n",
            "Epoch 5/20\n",
            "33/33 [==============================] - 32s 991ms/step - loss: 1.6009 - accuracy: 0.2409 - val_loss: 1.5988 - val_accuracy: 0.2412\n",
            "Epoch 6/20\n",
            "33/33 [==============================] - 33s 995ms/step - loss: 1.6023 - accuracy: 0.2409 - val_loss: 1.5995 - val_accuracy: 0.2412\n",
            "Epoch 7/20\n",
            "33/33 [==============================] - 37s 1s/step - loss: 1.6001 - accuracy: 0.2409 - val_loss: 1.5986 - val_accuracy: 0.2412\n",
            "Epoch 8/20\n",
            "33/33 [==============================] - 37s 1s/step - loss: 1.6004 - accuracy: 0.2409 - val_loss: 1.5990 - val_accuracy: 0.2412\n",
            "Epoch 9/20\n",
            "33/33 [==============================] - 33s 996ms/step - loss: 1.6004 - accuracy: 0.2409 - val_loss: 1.5992 - val_accuracy: 0.2412\n",
            "Epoch 10/20\n",
            "33/33 [==============================] - 32s 981ms/step - loss: 1.5998 - accuracy: 0.2409 - val_loss: 1.5987 - val_accuracy: 0.2412\n",
            "Epoch 11/20\n",
            "33/33 [==============================] - 33s 1s/step - loss: 1.6011 - accuracy: 0.2409 - val_loss: 1.5997 - val_accuracy: 0.2412\n",
            "Epoch 12/20\n",
            "33/33 [==============================] - 37s 1s/step - loss: 1.6000 - accuracy: 0.2409 - val_loss: 1.5986 - val_accuracy: 0.2412\n",
            "Epoch 13/20\n",
            "33/33 [==============================] - 32s 976ms/step - loss: 1.5999 - accuracy: 0.2409 - val_loss: 1.5986 - val_accuracy: 0.2412\n",
            "Epoch 14/20\n",
            "33/33 [==============================] - 33s 999ms/step - loss: 1.6002 - accuracy: 0.2409 - val_loss: 1.5988 - val_accuracy: 0.2412\n",
            "Epoch 15/20\n",
            "33/33 [==============================] - 33s 1s/step - loss: 1.5994 - accuracy: 0.2409 - val_loss: 1.5987 - val_accuracy: 0.2412\n",
            "Epoch 16/20\n",
            "33/33 [==============================] - 37s 1s/step - loss: 1.5997 - accuracy: 0.2409 - val_loss: 1.5986 - val_accuracy: 0.2412\n",
            "Epoch 17/20\n",
            "33/33 [==============================] - 32s 982ms/step - loss: 1.5992 - accuracy: 0.2409 - val_loss: 1.5986 - val_accuracy: 0.2412\n",
            "Epoch 18/20\n",
            "33/33 [==============================] - 34s 1s/step - loss: 1.5998 - accuracy: 0.2409 - val_loss: 1.5986 - val_accuracy: 0.2412\n",
            "Epoch 19/20\n",
            "33/33 [==============================] - 33s 987ms/step - loss: 1.5993 - accuracy: 0.2409 - val_loss: 1.5986 - val_accuracy: 0.2412\n",
            "Epoch 20/20\n",
            "33/33 [==============================] - 32s 988ms/step - loss: 1.5989 - accuracy: 0.2409 - val_loss: 1.5986 - val_accuracy: 0.2412\n"
          ]
        }
      ]
    }
  ]
}