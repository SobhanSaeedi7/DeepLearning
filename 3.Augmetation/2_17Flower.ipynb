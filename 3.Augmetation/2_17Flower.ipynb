{
  "nbformat": 4,
  "nbformat_minor": 0,
  "metadata": {
    "colab": {
      "provenance": [],
      "gpuType": "T4"
    },
    "kernelspec": {
      "name": "python3",
      "display_name": "Python 3"
    },
    "language_info": {
      "name": "python"
    },
    "accelerator": "GPU"
  },
  "cells": [
    {
      "cell_type": "code",
      "source": [
        "import tensorflow as tf\n",
        "import numpy as np\n",
        "import matplotlib.pyplot as plt\n",
        "from tensorflow.keras import layers, models\n",
        "from tensorflow.keras.utils import image_dataset_from_directory\n",
        "from tensorflow.keras.preprocessing.image import ImageDataGenerator\n",
        "from sklearn import metrics"
      ],
      "metadata": {
        "id": "JLRGnbRCZbLe"
      },
      "execution_count": 4,
      "outputs": []
    },
    {
      "cell_type": "code",
      "source": [
        "dataset_path = '/content/drive/MyDrive/datasets/17Flowers/train'"
      ],
      "metadata": {
        "id": "muuwaH_uW-5B"
      },
      "execution_count": 5,
      "outputs": []
    },
    {
      "cell_type": "code",
      "source": [
        "idg = ImageDataGenerator(\n",
        "    rescale=1./255,\n",
        "    validation_split=0.2\n",
        ")\n",
        "\n",
        "dataset_train = idg.flow_from_directory(\n",
        "    dataset_path,\n",
        "    shuffle=True,\n",
        "    subset='training',\n",
        "    target_size=(224, 224)\n",
        ")\n",
        "\n",
        "dataset_validation = idg.flow_from_directory(\n",
        "    dataset_path,\n",
        "    shuffle=True,\n",
        "    subset='validation',\n",
        "    target_size=(224, 224)\n",
        "\n",
        ")"
      ],
      "metadata": {
        "colab": {
          "base_uri": "https://localhost:8080/"
        },
        "id": "9dVjLFrGXD8u",
        "outputId": "38d512af-54ce-4eaf-88ce-92266d4d3e87"
      },
      "execution_count": 6,
      "outputs": [
        {
          "output_type": "stream",
          "name": "stdout",
          "text": [
            "Found 823 images belonging to 17 classes.\n",
            "Found 197 images belonging to 17 classes.\n"
          ]
        }
      ]
    },
    {
      "cell_type": "code",
      "source": [
        "# image augmentation\n",
        "idg = ImageDataGenerator(\n",
        "    rescale=1./255,\n",
        "    rotation_range=20,\n",
        "    zoom_range=0.2,\n",
        "    horizontal_flip=True,\n",
        "    validation_split=0.2\n",
        ")\n",
        "\n",
        "dataset_train_augmented = idg.flow_from_directory(\n",
        "    dataset_path,\n",
        "    shuffle=True,\n",
        "    subset='training',\n",
        "    target_size=(224, 224)\n",
        ")\n",
        "\n",
        "dataset_validation_augmented = idg.flow_from_directory(\n",
        "    dataset_path,\n",
        "    shuffle=True,\n",
        "    subset='validation',\n",
        "    target_size=(224, 224)\n",
        "\n",
        ")"
      ],
      "metadata": {
        "colab": {
          "base_uri": "https://localhost:8080/"
        },
        "id": "rCV4nInWZeC1",
        "outputId": "7a5b69ff-17a7-43f0-85e8-6e06c82e3228"
      },
      "execution_count": 7,
      "outputs": [
        {
          "output_type": "stream",
          "name": "stdout",
          "text": [
            "Found 823 images belonging to 17 classes.\n",
            "Found 197 images belonging to 17 classes.\n"
          ]
        }
      ]
    },
    {
      "cell_type": "code",
      "source": [
        "model = models.Sequential([\n",
        "    layers.Conv2D(64, (3, 3), strides=(2, 2), activation='relu', padding='same', input_shape=(224, 224, 3)),\n",
        "    layers.MaxPooling2D(),\n",
        "    layers.Conv2D(128, (3, 3), strides=(2, 2), activation='relu', padding='same'),\n",
        "    layers.MaxPooling2D(),\n",
        "    layers.Conv2D(265, (3, 3), strides=(2, 2), activation='relu', padding='same'),\n",
        "    layers.MaxPooling2D(),\n",
        "\n",
        "    layers.Flatten(),\n",
        "\n",
        "    layers.Dense(1080, activation='relu'),\n",
        "    layers.Dense(17, activation='softmax')\n",
        "])"
      ],
      "metadata": {
        "id": "TNHzIT3ga_v9"
      },
      "execution_count": 8,
      "outputs": []
    },
    {
      "cell_type": "code",
      "source": [
        "tf.keras.layers.Dropout(0.5),"
      ],
      "metadata": {
        "id": "gJF3noric4JI"
      },
      "execution_count": null,
      "outputs": []
    },
    {
      "cell_type": "code",
      "source": [
        "model.compile(optimizer=tf.keras.optimizers.Adam(learning_rate=0.001),\n",
        "              loss=tf.keras.losses.categorical_crossentropy,\n",
        "              metrics=['accuracy'])"
      ],
      "metadata": {
        "id": "kjXdfr-VbB68"
      },
      "execution_count": 9,
      "outputs": []
    },
    {
      "cell_type": "code",
      "source": [
        "history = model.fit(dataset_train,\n",
        "                    validation_data=dataset_validation,\n",
        "                    epochs=20)"
      ],
      "metadata": {
        "colab": {
          "base_uri": "https://localhost:8080/"
        },
        "id": "BTr-yT-7bHHE",
        "outputId": "24ce6b79-7eec-4a4c-a0d9-02500dc1eb01"
      },
      "execution_count": 10,
      "outputs": [
        {
          "output_type": "stream",
          "name": "stdout",
          "text": [
            "Epoch 1/20\n",
            "26/26 [==============================] - 9s 255ms/step - loss: 2.6140 - accuracy: 0.1142 - val_loss: 2.2812 - val_accuracy: 0.2132\n",
            "Epoch 2/20\n",
            "26/26 [==============================] - 7s 258ms/step - loss: 2.1499 - accuracy: 0.2758 - val_loss: 1.9577 - val_accuracy: 0.3046\n",
            "Epoch 3/20\n",
            "26/26 [==============================] - 6s 227ms/step - loss: 1.8319 - accuracy: 0.3949 - val_loss: 1.6488 - val_accuracy: 0.4213\n",
            "Epoch 4/20\n",
            "26/26 [==============================] - 6s 222ms/step - loss: 1.4410 - accuracy: 0.5055 - val_loss: 1.5789 - val_accuracy: 0.4061\n",
            "Epoch 5/20\n",
            "26/26 [==============================] - 6s 246ms/step - loss: 1.1176 - accuracy: 0.6173 - val_loss: 1.3747 - val_accuracy: 0.5635\n",
            "Epoch 6/20\n",
            "26/26 [==============================] - 7s 255ms/step - loss: 0.9407 - accuracy: 0.6622 - val_loss: 1.2332 - val_accuracy: 0.6041\n",
            "Epoch 7/20\n",
            "26/26 [==============================] - 6s 242ms/step - loss: 0.7024 - accuracy: 0.7436 - val_loss: 1.3671 - val_accuracy: 0.5482\n",
            "Epoch 8/20\n",
            "26/26 [==============================] - 6s 219ms/step - loss: 0.6179 - accuracy: 0.7728 - val_loss: 1.2750 - val_accuracy: 0.6091\n",
            "Epoch 9/20\n",
            "26/26 [==============================] - 6s 243ms/step - loss: 0.4031 - accuracy: 0.8736 - val_loss: 1.2693 - val_accuracy: 0.6294\n",
            "Epoch 10/20\n",
            "26/26 [==============================] - 6s 222ms/step - loss: 0.2856 - accuracy: 0.9149 - val_loss: 1.4798 - val_accuracy: 0.6142\n",
            "Epoch 11/20\n",
            "26/26 [==============================] - 8s 326ms/step - loss: 0.2759 - accuracy: 0.9137 - val_loss: 1.6881 - val_accuracy: 0.5838\n",
            "Epoch 12/20\n",
            "26/26 [==============================] - 6s 231ms/step - loss: 0.3097 - accuracy: 0.8931 - val_loss: 1.6485 - val_accuracy: 0.5939\n",
            "Epoch 13/20\n",
            "26/26 [==============================] - 6s 233ms/step - loss: 0.1303 - accuracy: 0.9550 - val_loss: 1.2717 - val_accuracy: 0.6751\n",
            "Epoch 14/20\n",
            "26/26 [==============================] - 6s 221ms/step - loss: 0.0519 - accuracy: 0.9866 - val_loss: 1.6103 - val_accuracy: 0.6396\n",
            "Epoch 15/20\n",
            "26/26 [==============================] - 7s 263ms/step - loss: 0.0193 - accuracy: 0.9976 - val_loss: 1.6062 - val_accuracy: 0.6650\n",
            "Epoch 16/20\n",
            "26/26 [==============================] - 6s 240ms/step - loss: 0.0059 - accuracy: 1.0000 - val_loss: 1.4996 - val_accuracy: 0.6650\n",
            "Epoch 17/20\n",
            "26/26 [==============================] - 6s 219ms/step - loss: 0.0029 - accuracy: 1.0000 - val_loss: 1.5592 - val_accuracy: 0.6650\n",
            "Epoch 18/20\n",
            "26/26 [==============================] - 6s 220ms/step - loss: 0.0018 - accuracy: 1.0000 - val_loss: 1.5962 - val_accuracy: 0.6701\n",
            "Epoch 19/20\n",
            "26/26 [==============================] - 9s 335ms/step - loss: 0.0014 - accuracy: 1.0000 - val_loss: 1.6360 - val_accuracy: 0.6701\n",
            "Epoch 20/20\n",
            "26/26 [==============================] - 6s 215ms/step - loss: 0.0011 - accuracy: 1.0000 - val_loss: 1.6566 - val_accuracy: 0.6650\n"
          ]
        }
      ]
    },
    {
      "cell_type": "code",
      "source": [
        "history_augmented = model.fit(dataset_train_augmented,\n",
        "                    validation_data=dataset_validation_augmented,\n",
        "                    epochs=20)"
      ],
      "metadata": {
        "colab": {
          "base_uri": "https://localhost:8080/"
        },
        "id": "V1CbuQUjh2qP",
        "outputId": "e89839c8-d8f1-4236-eee3-031650690b75"
      },
      "execution_count": 11,
      "outputs": [
        {
          "output_type": "stream",
          "name": "stdout",
          "text": [
            "Epoch 1/20\n",
            "26/26 [==============================] - 17s 677ms/step - loss: 1.2365 - accuracy: 0.6561 - val_loss: 1.2170 - val_accuracy: 0.6193\n",
            "Epoch 2/20\n",
            "26/26 [==============================] - 16s 633ms/step - loss: 0.8218 - accuracy: 0.7461 - val_loss: 0.9676 - val_accuracy: 0.6548\n",
            "Epoch 3/20\n",
            "26/26 [==============================] - 18s 714ms/step - loss: 0.6876 - accuracy: 0.7716 - val_loss: 1.0900 - val_accuracy: 0.6447\n",
            "Epoch 4/20\n",
            "26/26 [==============================] - 17s 642ms/step - loss: 0.5820 - accuracy: 0.7922 - val_loss: 1.2072 - val_accuracy: 0.6294\n",
            "Epoch 5/20\n",
            "26/26 [==============================] - 18s 700ms/step - loss: 0.5896 - accuracy: 0.8007 - val_loss: 1.0712 - val_accuracy: 0.6244\n",
            "Epoch 6/20\n",
            "26/26 [==============================] - 17s 639ms/step - loss: 0.4765 - accuracy: 0.8323 - val_loss: 0.9387 - val_accuracy: 0.7107\n",
            "Epoch 7/20\n",
            "26/26 [==============================] - 19s 745ms/step - loss: 0.3820 - accuracy: 0.8736 - val_loss: 0.9362 - val_accuracy: 0.7259\n",
            "Epoch 8/20\n",
            "26/26 [==============================] - 20s 796ms/step - loss: 0.4301 - accuracy: 0.8603 - val_loss: 1.3725 - val_accuracy: 0.6244\n",
            "Epoch 9/20\n",
            "26/26 [==============================] - 19s 722ms/step - loss: 0.3719 - accuracy: 0.8651 - val_loss: 1.1598 - val_accuracy: 0.6497\n",
            "Epoch 10/20\n",
            "26/26 [==============================] - 18s 705ms/step - loss: 0.2742 - accuracy: 0.9064 - val_loss: 1.2859 - val_accuracy: 0.6751\n",
            "Epoch 11/20\n",
            "26/26 [==============================] - 18s 687ms/step - loss: 0.2750 - accuracy: 0.9016 - val_loss: 1.5594 - val_accuracy: 0.6396\n",
            "Epoch 12/20\n",
            "26/26 [==============================] - 18s 705ms/step - loss: 0.3189 - accuracy: 0.8882 - val_loss: 1.3967 - val_accuracy: 0.6497\n",
            "Epoch 13/20\n",
            "26/26 [==============================] - 17s 664ms/step - loss: 0.3104 - accuracy: 0.9052 - val_loss: 1.0118 - val_accuracy: 0.7411\n",
            "Epoch 14/20\n",
            "26/26 [==============================] - 19s 723ms/step - loss: 0.1808 - accuracy: 0.9429 - val_loss: 1.2506 - val_accuracy: 0.6853\n",
            "Epoch 15/20\n",
            "26/26 [==============================] - 18s 694ms/step - loss: 0.2264 - accuracy: 0.9222 - val_loss: 1.2767 - val_accuracy: 0.6904\n",
            "Epoch 16/20\n",
            "26/26 [==============================] - 18s 700ms/step - loss: 0.1779 - accuracy: 0.9392 - val_loss: 1.4366 - val_accuracy: 0.6751\n",
            "Epoch 17/20\n",
            "26/26 [==============================] - 20s 776ms/step - loss: 0.2286 - accuracy: 0.9235 - val_loss: 1.3158 - val_accuracy: 0.6751\n",
            "Epoch 18/20\n",
            "26/26 [==============================] - 19s 734ms/step - loss: 0.1840 - accuracy: 0.9320 - val_loss: 1.0904 - val_accuracy: 0.7107\n",
            "Epoch 19/20\n",
            "26/26 [==============================] - 18s 686ms/step - loss: 0.2293 - accuracy: 0.9162 - val_loss: 1.5811 - val_accuracy: 0.6497\n",
            "Epoch 20/20\n",
            "26/26 [==============================] - 19s 740ms/step - loss: 0.2271 - accuracy: 0.9368 - val_loss: 1.0436 - val_accuracy: 0.6853\n"
          ]
        }
      ]
    },
    {
      "cell_type": "code",
      "source": [
        "idg = ImageDataGenerator(\n",
        "    rescale=1./255\n",
        ")\n",
        "\n",
        "dataset_test = idg.flow_from_directory(\n",
        "    '/content/drive/MyDrive/datasets/17Flowers/test',\n",
        "    shuffle=True,\n",
        "    subset='training',\n",
        "    target_size=(224, 224)\n",
        ")"
      ],
      "metadata": {
        "id": "m-Yc7WcRidUA",
        "outputId": "5e280d1c-b6fb-42f8-e5db-9738a03adbe5",
        "colab": {
          "base_uri": "https://localhost:8080/"
        }
      },
      "execution_count": 16,
      "outputs": [
        {
          "output_type": "stream",
          "name": "stdout",
          "text": [
            "Found 340 images belonging to 17 classes.\n"
          ]
        }
      ]
    },
    {
      "cell_type": "code",
      "source": [
        "model.evaluate(dataset_test)"
      ],
      "metadata": {
        "id": "_v1RjbWNi_Z0",
        "outputId": "06020807-b073-4f23-f477-a451a6fa1eae",
        "colab": {
          "base_uri": "https://localhost:8080/"
        }
      },
      "execution_count": 17,
      "outputs": [
        {
          "output_type": "stream",
          "name": "stdout",
          "text": [
            "11/11 [==============================] - 125s 12s/step - loss: 1.2360 - accuracy: 0.6824\n"
          ]
        },
        {
          "output_type": "execute_result",
          "data": {
            "text/plain": [
              "[1.2359827756881714, 0.6823529601097107]"
            ]
          },
          "metadata": {},
          "execution_count": 17
        }
      ]
    },
    {
      "cell_type": "code",
      "source": [
        "X_vall, Y_vall = dataset_test[0]\n",
        "\n",
        "Y_pred = model.predict(X_vall)\n",
        "\n",
        "Y_vall = np.argmax(Y_vall, axis=1)\n",
        "Y_pred = np.argmax(Y_pred, axis=1)\n",
        "\n"
      ],
      "metadata": {
        "colab": {
          "base_uri": "https://localhost:8080/"
        },
        "id": "KCUgglxxdPFM",
        "outputId": "42931252-9727-4038-ffc9-c1685dea420f"
      },
      "execution_count": 18,
      "outputs": [
        {
          "output_type": "stream",
          "name": "stdout",
          "text": [
            "1/1 [==============================] - 0s 132ms/step\n"
          ]
        }
      ]
    },
    {
      "cell_type": "code",
      "source": [
        "confusion_matrix = metrics.confusion_matrix(Y_pred, Y_vall)\n",
        "\n",
        "cm_display = metrics.ConfusionMatrixDisplay(confusion_matrix = confusion_matrix)\n",
        "\n",
        "cm_display.plot(cmap='YlGnBu')\n",
        "plt.show()"
      ],
      "metadata": {
        "colab": {
          "base_uri": "https://localhost:8080/",
          "height": 455
        },
        "id": "VYheCk21g8M-",
        "outputId": "7c2875e5-77d2-48f9-ad83-1908701c85cf"
      },
      "execution_count": 19,
      "outputs": [
        {
          "output_type": "display_data",
          "data": {
            "text/plain": [
              "<Figure size 640x480 with 2 Axes>"
            ],
            "image/png": "[encoded data removed]"
          },
          "metadata": {}
        }
      ]
    }
  ]
}