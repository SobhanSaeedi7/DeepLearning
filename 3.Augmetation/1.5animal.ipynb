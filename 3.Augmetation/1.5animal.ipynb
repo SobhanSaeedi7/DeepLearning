{
  "nbformat": 4,
  "nbformat_minor": 0,
  "metadata": {
    "colab": {
      "provenance": [],
      "gpuType": "T4"
    },
    "kernelspec": {
      "name": "python3",
      "display_name": "Python 3"
    },
    "language_info": {
      "name": "python"
    },
    "accelerator": "GPU"
  },
  "cells": [
    {
      "cell_type": "code",
      "source": [
        "from google.colab import drive\n",
        "drive.mount('/content/drive')"
      ],
      "metadata": {
        "colab": {
          "base_uri": "https://localhost:8080/"
        },
        "id": "xaZFFics0neo",
        "outputId": "f8a889be-8cca-4138-85d0-cf2db8aef5fb"
      },
      "execution_count": 1,
      "outputs": [
        {
          "output_type": "stream",
          "name": "stdout",
          "text": [
            "Mounted at /content/drive\n"
          ]
        }
      ]
    },
    {
      "cell_type": "code",
      "execution_count": 2,
      "metadata": {
        "id": "gcIL6eVmwDjQ"
      },
      "outputs": [],
      "source": [
        "import tensorflow as tf\n",
        "import numpy as np\n",
        "import matplotlib.pyplot as plt\n",
        "from tensorflow.keras import layers, models\n",
        "from tensorflow.keras.preprocessing.image import ImageDataGenerator\n",
        "from sklearn import metrics"
      ]
    },
    {
      "cell_type": "code",
      "source": [
        "dataset_path = '/content/drive/MyDrive/datasets/5Animals'\n",
        "\n",
        "# image augmentation\n",
        "idg = ImageDataGenerator(\n",
        "    rescale=1./255,\n",
        "    rotation_range=20,\n",
        "    zoom_range=0.2,\n",
        "    horizontal_flip=True,\n",
        "    validation_split=0.2\n",
        ")\n",
        "\n",
        "dataset_train = idg.flow_from_directory(\n",
        "    dataset_path,\n",
        "    shuffle=True,\n",
        "    subset='training',\n",
        "    target_size=(224, 224)\n",
        ")\n",
        "\n",
        "dataset_validation = idg.flow_from_directory(\n",
        "    dataset_path,\n",
        "    shuffle=True,\n",
        "    subset='validation',\n",
        "    target_size=(224, 224)\n",
        "\n",
        ")"
      ],
      "metadata": {
        "colab": {
          "base_uri": "https://localhost:8080/"
        },
        "id": "3Mt4WxANNi7K",
        "outputId": "ee5073be-a5e5-4c49-c1dd-dd7720b5c542"
      },
      "execution_count": 3,
      "outputs": [
        {
          "output_type": "stream",
          "name": "stdout",
          "text": [
            "Found 1042 images belonging to 5 classes.\n",
            "Found 257 images belonging to 5 classes.\n"
          ]
        }
      ]
    },
    {
      "cell_type": "code",
      "source": [
        "model = models.Sequential([\n",
        "    layers.Conv2D(64, (3, 3), strides=(2, 2), activation='relu', padding='same', input_shape=(224, 224, 3)),\n",
        "    layers.MaxPooling2D(),\n",
        "    layers.Conv2D(128, (3, 3), strides=(2, 2), activation='relu', padding='same'),\n",
        "    layers.MaxPooling2D(),\n",
        "    layers.Conv2D(265, (3, 3), strides=(2, 2), activation='relu', padding='same'),\n",
        "    layers.MaxPooling2D(),\n",
        "\n",
        "    layers.Flatten(),\n",
        "\n",
        "    layers.Dense(4096, activation='relu'),\n",
        "    layers.Dense(1024, activation='relu'),\n",
        "    layers.Dense(5, activation='softmax')\n",
        "])"
      ],
      "metadata": {
        "id": "lcmT4D7fW2mJ"
      },
      "execution_count": 9,
      "outputs": []
    },
    {
      "cell_type": "code",
      "source": [
        "model.compile(optimizer=tf.keras.optimizers.Adam(learning_rate=0.001),\n",
        "              loss=tf.keras.losses.categorical_crossentropy,\n",
        "              metrics=['accuracy']\n",
        "              )"
      ],
      "metadata": {
        "id": "SjS-fpVsCknr"
      },
      "execution_count": 10,
      "outputs": []
    },
    {
      "cell_type": "code",
      "source": [
        "history = model.fit(dataset_train,\n",
        "                    validation_data=dataset_validation,\n",
        "                    epochs=20)"
      ],
      "metadata": {
        "colab": {
          "base_uri": "https://localhost:8080/"
        },
        "id": "fUEyM0K1FGkN",
        "outputId": "adbaa4ed-c411-49d0-e44e-5939728e276e"
      },
      "execution_count": 11,
      "outputs": [
        {
          "output_type": "stream",
          "name": "stdout",
          "text": [
            "Epoch 1/20\n",
            "33/33 [==============================] - 874s 26s/step - loss: 1.6279 - accuracy: 0.2073 - val_loss: 1.5909 - val_accuracy: 0.2412\n",
            "Epoch 2/20\n",
            "33/33 [==============================] - 32s 974ms/step - loss: 1.5120 - accuracy: 0.3340 - val_loss: 1.7623 - val_accuracy: 0.2451\n",
            "Epoch 3/20\n",
            "33/33 [==============================] - 32s 956ms/step - loss: 1.5422 - accuracy: 0.3109 - val_loss: 1.4369 - val_accuracy: 0.3502\n",
            "Epoch 4/20\n",
            "33/33 [==============================] - 32s 986ms/step - loss: 1.3809 - accuracy: 0.3868 - val_loss: 1.3761 - val_accuracy: 0.3658\n",
            "Epoch 5/20\n",
            "33/33 [==============================] - 31s 955ms/step - loss: 1.2953 - accuracy: 0.4203 - val_loss: 1.3469 - val_accuracy: 0.4163\n",
            "Epoch 6/20\n",
            "33/33 [==============================] - 33s 995ms/step - loss: 1.2094 - accuracy: 0.4635 - val_loss: 1.3486 - val_accuracy: 0.4553\n",
            "Epoch 7/20\n",
            "33/33 [==============================] - 32s 988ms/step - loss: 1.2002 - accuracy: 0.4741 - val_loss: 1.2051 - val_accuracy: 0.4630\n",
            "Epoch 8/20\n",
            "33/33 [==============================] - 31s 944ms/step - loss: 1.1006 - accuracy: 0.5393 - val_loss: 1.2094 - val_accuracy: 0.4981\n",
            "Epoch 9/20\n",
            "33/33 [==============================] - 36s 1s/step - loss: 0.9844 - accuracy: 0.5816 - val_loss: 1.0899 - val_accuracy: 0.5409\n",
            "Epoch 10/20\n",
            "33/33 [==============================] - 32s 979ms/step - loss: 0.9219 - accuracy: 0.6094 - val_loss: 1.0182 - val_accuracy: 0.5798\n",
            "Epoch 11/20\n",
            "33/33 [==============================] - 36s 1s/step - loss: 0.8673 - accuracy: 0.6392 - val_loss: 0.9847 - val_accuracy: 0.5759\n",
            "Epoch 12/20\n",
            "33/33 [==============================] - 36s 1s/step - loss: 0.8081 - accuracy: 0.6651 - val_loss: 1.0215 - val_accuracy: 0.5875\n",
            "Epoch 13/20\n",
            "33/33 [==============================] - 31s 942ms/step - loss: 0.7758 - accuracy: 0.6727 - val_loss: 0.9527 - val_accuracy: 0.6226\n",
            "Epoch 14/20\n",
            "33/33 [==============================] - 32s 979ms/step - loss: 0.7083 - accuracy: 0.6967 - val_loss: 0.9237 - val_accuracy: 0.6615\n",
            "Epoch 15/20\n",
            "33/33 [==============================] - 31s 953ms/step - loss: 0.6666 - accuracy: 0.7313 - val_loss: 0.9236 - val_accuracy: 0.6226\n",
            "Epoch 16/20\n",
            "33/33 [==============================] - 31s 957ms/step - loss: 0.5934 - accuracy: 0.7476 - val_loss: 0.9718 - val_accuracy: 0.6576\n",
            "Epoch 17/20\n",
            "33/33 [==============================] - 32s 962ms/step - loss: 0.5826 - accuracy: 0.7610 - val_loss: 1.2068 - val_accuracy: 0.5642\n",
            "Epoch 18/20\n",
            "33/33 [==============================] - 31s 957ms/step - loss: 0.6065 - accuracy: 0.7562 - val_loss: 1.0139 - val_accuracy: 0.6420\n",
            "Epoch 19/20\n",
            "33/33 [==============================] - 32s 975ms/step - loss: 0.5213 - accuracy: 0.7889 - val_loss: 1.1265 - val_accuracy: 0.6342\n",
            "Epoch 20/20\n",
            "33/33 [==============================] - 31s 954ms/step - loss: 0.5809 - accuracy: 0.7649 - val_loss: 0.9590 - val_accuracy: 0.6615\n"
          ]
        }
      ]
    },
    {
      "cell_type": "code",
      "source": [
        "model.save('5animal_model.h5')"
      ],
      "metadata": {
        "id": "ORVOOFpB0FiJ",
        "colab": {
          "base_uri": "https://localhost:8080/"
        },
        "outputId": "9ca9bdbf-dcf4-4907-e68c-497785c0bd4f"
      },
      "execution_count": 12,
      "outputs": [
        {
          "output_type": "stream",
          "name": "stderr",
          "text": [
            "/usr/local/lib/python3.10/dist-packages/keras/src/engine/training.py:3103: UserWarning: You are saving your model as an HDF5 file via `model.save()`. This file format is considered legacy. We recommend using instead the native Keras format, e.g. `model.save('my_model.keras')`.\n",
            "  saving_api.save_model(\n"
          ]
        }
      ]
    },
    {
      "cell_type": "code",
      "source": [
        "Y_pred = []\n",
        "Y_vall = []\n",
        "\n",
        "for i in range(9):\n",
        "  for label in model.predict(dataset_validation[i][0]):\n",
        "    Y_pred.append(np.argmax(label))\n",
        "  for label in dataset_validation[i][1]:\n",
        "    Y_vall.append(np.argmax(label))\n",
        "\n",
        "Y_pred = np.array(Y_pred)\n",
        "Y_vall = np.array(Y_vall)"
      ],
      "metadata": {
        "colab": {
          "base_uri": "https://localhost:8080/"
        },
        "id": "I9kwNdKGCQBk",
        "outputId": "00423fee-f9fb-4f09-a379-7bf1ce64f9f3"
      },
      "execution_count": 14,
      "outputs": [
        {
          "output_type": "stream",
          "name": "stdout",
          "text": [
            "1/1 [==============================] - 0s 135ms/step\n",
            "1/1 [==============================] - 0s 26ms/step\n",
            "1/1 [==============================] - 0s 28ms/step\n",
            "1/1 [==============================] - 0s 32ms/step\n",
            "1/1 [==============================] - 0s 31ms/step\n",
            "1/1 [==============================] - 0s 35ms/step\n",
            "1/1 [==============================] - 0s 28ms/step\n",
            "1/1 [==============================] - 0s 28ms/step\n",
            "1/1 [==============================] - 0s 75ms/step\n"
          ]
        }
      ]
    },
    {
      "cell_type": "code",
      "source": [
        "confusion_matrix = metrics.confusion_matrix(Y_pred, Y_vall)\n",
        "\n",
        "cm_display = metrics.ConfusionMatrixDisplay(confusion_matrix = confusion_matrix, display_labels=dataset_validation.class_indices)\n",
        "\n",
        "cm_display.plot(cmap='YlGnBu', xticks_rotation=90)\n",
        "plt.show()"
      ],
      "metadata": {
        "colab": {
          "base_uri": "https://localhost:8080/",
          "height": 497
        },
        "id": "S668VR6gYmgn",
        "outputId": "ffd3b608-e982-41cf-be41-9f07bf6bfc6e"
      },
      "execution_count": 18,
      "outputs": [
        {
          "output_type": "display_data",
          "data": {
            "text/plain": [
              "<Figure size 640x480 with 2 Axes>"
            ],
            "image/png": "[encoded data removed]"
          },
          "metadata": {}
        }
      ]
    },
    {
      "cell_type": "code",
      "source": [
        "import cv2"
      ],
      "metadata": {
        "id": "1pL5nRYcgC49"
      },
      "execution_count": null,
      "outputs": []
    },
    {
      "cell_type": "code",
      "source": [
        "img = cv2.imread('pics/giraffe.jpg')\n",
        "img = cv2.resize(img, (224,224))\n",
        "img = np.array(img)/255\n",
        "img = np.expand_dims(img, axis=0)\n",
        "\n",
        "output = model.predict(img)\n",
        "output = np.argmax(output)\n",
        "\n",
        "animals = ['cat', 'dog', 'elephant', 'giraffe', 'panda']\n",
        "animal = animals[output]\n",
        "print(animal)"
      ],
      "metadata": {
        "colab": {
          "base_uri": "https://localhost:8080/"
        },
        "id": "ctUySQOtgJnE",
        "outputId": "d047b5eb-1a39-4229-d801-4e5132bb2a56"
      },
      "execution_count": null,
      "outputs": [
        {
          "output_type": "stream",
          "name": "stdout",
          "text": [
            "1/1 [==============================] - 0s 75ms/step\n",
            "giraffe\n"
          ]
        }
      ]
    }
  ]
}