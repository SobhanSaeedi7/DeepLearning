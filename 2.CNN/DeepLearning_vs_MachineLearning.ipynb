{
  "nbformat": 4,
  "nbformat_minor": 0,
  "metadata": {
    "colab": {
      "provenance": [],
      "gpuType": "T4"
    },
    "kernelspec": {
      "name": "python3",
      "display_name": "Python 3"
    },
    "language_info": {
      "name": "python"
    },
    "accelerator": "GPU"
  },
  "cells": [
    {
      "cell_type": "code",
      "execution_count": 1,
      "metadata": {
        "id": "XGMkz-uVdtw5"
      },
      "outputs": [],
      "source": [
        "import tensorflow as tf"
      ]
    },
    {
      "cell_type": "code",
      "source": [
        "def MLP(input_dataset):\n",
        "  if input_dataset == 'mnist':\n",
        "    dataset = tf.keras.datasets.mnist\n",
        "  elif input_dataset == 'fashion_mnist':\n",
        "    dataset = tf.keras.datasets.fashion_mnist\n",
        "  elif input_dataset == 'cifar10':\n",
        "    dataset = tf.keras.datasets.cifar10\n",
        "  elif input_dataset == 'cifar100':\n",
        "    dataset = tf.keras.datasets.cifar100\n",
        "  else:\n",
        "    print('Dataset is not defined!')\n",
        "    return ..., ...\n",
        "\n",
        "  if input_dataset == 'cifar100':\n",
        "    output_layer = 100\n",
        "  else:\n",
        "    output_layer = 10\n",
        "\n",
        "  (x_train, y_train),(x_test, y_test) = dataset.load_data()\n",
        "  x_train, x_test = x_train / 255.0, x_test / 255.0\n",
        "\n",
        "  model = tf.keras.models.Sequential([\n",
        "    tf.keras.layers.Flatten(input_shape=(x_train[0].shape)),\n",
        "    tf.keras.layers.Dense(128, activation='relu'),\n",
        "    tf.keras.layers.Dropout(0.2),\n",
        "    tf.keras.layers.Dense(output_layer, activation='softmax')\n",
        "  ])\n",
        "\n",
        "  model.compile(optimizer='adam',\n",
        "                loss=tf.keras.losses.sparse_categorical_crossentropy,\n",
        "                metrics=['accuracy'])\n",
        "\n",
        "  model.fit(x_train, y_train, epochs=5)\n",
        "  loss, accuracy = model.evaluate(x_test, y_test)\n",
        "\n",
        "  return loss, accuracy"
      ],
      "metadata": {
        "id": "BnHy8u8miOxN"
      },
      "execution_count": 6,
      "outputs": []
    },
    {
      "cell_type": "code",
      "source": [
        "datasets = ['mnist', 'fashion_mnist', 'cifar10', 'cifar100']\n",
        "MLP_results = []\n",
        "CNN_MLP_results = []"
      ],
      "metadata": {
        "id": "DY4nA-FMqyKd"
      },
      "execution_count": 11,
      "outputs": []
    },
    {
      "cell_type": "code",
      "source": [
        "for dataset in datasets:\n",
        "  loss, accuracy = MLP(dataset)\n",
        "  result = {dataset+'_loss':loss, dataset+'_accuracy':accuracy}\n",
        "  MLP_results.append(result)"
      ],
      "metadata": {
        "colab": {
          "base_uri": "https://localhost:8080/"
        },
        "id": "DjjE4kF4rb7f",
        "outputId": "33f78291-26b3-480d-bcff-00155e189f2c"
      },
      "execution_count": 12,
      "outputs": [
        {
          "output_type": "stream",
          "name": "stdout",
          "text": [
            "Downloading data from https://storage.googleapis.com/tensorflow/tf-keras-datasets/mnist.npz\n",
            "11490434/11490434 [==============================] - 0s 0us/step\n",
            "Epoch 1/5\n",
            "1875/1875 [==============================] - 6s 3ms/step - loss: 0.2950 - accuracy: 0.9135\n",
            "Epoch 2/5\n",
            "1875/1875 [==============================] - 6s 3ms/step - loss: 0.1387 - accuracy: 0.9584\n",
            "Epoch 3/5\n",
            "1875/1875 [==============================] - 5s 3ms/step - loss: 0.1039 - accuracy: 0.9682\n",
            "Epoch 4/5\n",
            "1875/1875 [==============================] - 6s 3ms/step - loss: 0.0830 - accuracy: 0.9744\n",
            "Epoch 5/5\n",
            "1875/1875 [==============================] - 5s 3ms/step - loss: 0.0725 - accuracy: 0.9782\n",
            "313/313 [==============================] - 1s 2ms/step - loss: 0.0730 - accuracy: 0.9765\n",
            "Downloading data from https://storage.googleapis.com/tensorflow/tf-keras-datasets/train-labels-idx1-ubyte.gz\n",
            "29515/29515 [==============================] - 0s 0us/step\n",
            "Downloading data from https://storage.googleapis.com/tensorflow/tf-keras-datasets/train-images-idx3-ubyte.gz\n",
            "26421880/26421880 [==============================] - 0s 0us/step\n",
            "Downloading data from https://storage.googleapis.com/tensorflow/tf-keras-datasets/t10k-labels-idx1-ubyte.gz\n",
            "5148/5148 [==============================] - 0s 0us/step\n",
            "Downloading data from https://storage.googleapis.com/tensorflow/tf-keras-datasets/t10k-images-idx3-ubyte.gz\n",
            "4422102/4422102 [==============================] - 0s 0us/step\n",
            "Epoch 1/5\n",
            "1875/1875 [==============================] - 7s 4ms/step - loss: 0.5257 - accuracy: 0.8144\n",
            "Epoch 2/5\n",
            "1875/1875 [==============================] - 5s 3ms/step - loss: 0.3990 - accuracy: 0.8560\n",
            "Epoch 3/5\n",
            "1875/1875 [==============================] - 6s 3ms/step - loss: 0.3654 - accuracy: 0.8665\n",
            "Epoch 4/5\n",
            "1875/1875 [==============================] - 5s 3ms/step - loss: 0.3446 - accuracy: 0.8744\n",
            "Epoch 5/5\n",
            "1875/1875 [==============================] - 5s 3ms/step - loss: 0.3299 - accuracy: 0.8797\n",
            "313/313 [==============================] - 1s 3ms/step - loss: 0.3581 - accuracy: 0.8700\n",
            "Downloading data from https://www.cs.toronto.edu/~kriz/cifar-10-python.tar.gz\n",
            "170498071/170498071 [==============================] - 4s 0us/step\n",
            "Epoch 1/5\n",
            "1563/1563 [==============================] - 6s 3ms/step - loss: 1.9986 - accuracy: 0.2579\n",
            "Epoch 2/5\n",
            "1563/1563 [==============================] - 5s 3ms/step - loss: 1.8990 - accuracy: 0.2998\n",
            "Epoch 3/5\n",
            "1563/1563 [==============================] - 6s 4ms/step - loss: 1.8686 - accuracy: 0.3175\n",
            "Epoch 4/5\n",
            "1563/1563 [==============================] - 5s 3ms/step - loss: 1.8507 - accuracy: 0.3243\n",
            "Epoch 5/5\n",
            "1563/1563 [==============================] - 5s 3ms/step - loss: 1.8428 - accuracy: 0.3266\n",
            "313/313 [==============================] - 1s 3ms/step - loss: 1.7554 - accuracy: 0.3648\n",
            "Epoch 1/5\n",
            "1563/1563 [==============================] - 5s 3ms/step - loss: 4.6079 - accuracy: 0.0092\n",
            "Epoch 2/5\n",
            "1563/1563 [==============================] - 6s 4ms/step - loss: 4.5422 - accuracy: 0.0145\n",
            "Epoch 3/5\n",
            "1563/1563 [==============================] - 5s 3ms/step - loss: 4.4710 - accuracy: 0.0194\n",
            "Epoch 4/5\n",
            "1563/1563 [==============================] - 5s 3ms/step - loss: 4.4542 - accuracy: 0.0209\n",
            "Epoch 5/5\n",
            "1563/1563 [==============================] - 6s 4ms/step - loss: 4.4390 - accuracy: 0.0231\n",
            "313/313 [==============================] - 1s 2ms/step - loss: 4.3927 - accuracy: 0.0277\n"
          ]
        }
      ]
    },
    {
      "cell_type": "code",
      "source": [
        "MLP_results"
      ],
      "metadata": {
        "colab": {
          "base_uri": "https://localhost:8080/"
        },
        "id": "pjcK2sYnsvH8",
        "outputId": "17df9d1b-8bf0-46b7-f4b6-d38c1680e3c6"
      },
      "execution_count": 13,
      "outputs": [
        {
          "output_type": "execute_result",
          "data": {
            "text/plain": [
              "[{'mnist_loss': 0.07299862056970596, 'mnist_accuracy': 0.9764999747276306},\n",
              " {'fashion_mnist_loss': 0.3580533564090729,\n",
              "  'fashion_mnist_accuracy': 0.8700000047683716},\n",
              " {'cifar10_loss': 1.7554351091384888, 'cifar10_accuracy': 0.36480000615119934},\n",
              " {'cifar100_loss': 4.392705917358398,\n",
              "  'cifar100_accuracy': 0.027699999511241913}]"
            ]
          },
          "metadata": {},
          "execution_count": 13
        }
      ]
    }
  ]
}