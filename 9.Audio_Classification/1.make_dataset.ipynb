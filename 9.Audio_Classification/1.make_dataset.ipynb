{
 "cells": [
  {
   "cell_type": "code",
   "execution_count": 1,
   "metadata": {},
   "outputs": [],
   "source": [
    "import os\n",
    "import shutil\n",
    "import pydub\n",
    "import matplotlib.pyplot as plt"
   ]
  },
  {
   "cell_type": "code",
   "execution_count": 16,
   "metadata": {},
   "outputs": [],
   "source": [
    "def get_prober_name():\n",
    "    return \"C://ffmpeg/bin/ffprobe.exe\"\n",
    "\n",
    "\n",
    "pydub.AudioSegment.converter = \"C://ffmpeg/bin/ffmpeg.exe\"                  \n",
    "pydub.utils.get_prober_name = get_prober_name"
   ]
  },
  {
   "cell_type": "code",
   "execution_count": 2,
   "metadata": {},
   "outputs": [
    {
     "data": {
      "text/plain": [
       "'audios'"
      ]
     },
     "execution_count": 2,
     "metadata": {},
     "output_type": "execute_result"
    }
   ],
   "source": [
    "shutil.copytree('raw_audios', 'audios', dirs_exist_ok=True)"
   ]
  },
  {
   "cell_type": "markdown",
   "metadata": {},
   "source": [
    "Concatenate two audio files from the same person"
   ]
  },
  {
   "cell_type": "code",
   "execution_count": 20,
   "metadata": {},
   "outputs": [],
   "source": [
    "audio_1 = pydub.AudioSegment.from_file(\"audios/Khadijeh_1.ogg\")\n",
    "audio_2 = pydub.AudioSegment.from_file(\"audios/Khadijeh_2.ogg\")\n",
    "\n",
    "result = audio_1 + audio_2\n",
    "result.export(\"audios/Khadijeh.ogg\")\n",
    "\n",
    "os.remove(\"audios/Khadijeh_1.ogg\")\n",
    "os.remove(\"audios/Khadijeh_2.ogg\")"
   ]
  },
  {
   "cell_type": "code",
   "execution_count": 21,
   "metadata": {},
   "outputs": [],
   "source": [
    "audio_1 = pydub.AudioSegment.from_file(\"audios/Parsa_1.ogg\")\n",
    "audio_2 = pydub.AudioSegment.from_file(\"audios/Parsa_2.ogg\")\n",
    "\n",
    "result = audio_1 + audio_2\n",
    "result.export(\"audios/Parsa.ogg\")\n",
    "\n",
    "os.remove(\"audios/Parsa_1.ogg\")\n",
    "os.remove(\"audios/Parsa_2.ogg\")"
   ]
  },
  {
   "cell_type": "code",
   "execution_count": 24,
   "metadata": {},
   "outputs": [],
   "source": [
    "audio_1 = pydub.AudioSegment.from_file(\"audios/Nima_1.ogg\")\n",
    "audio_2 = pydub.AudioSegment.from_file(\"audios/Nima_2.ogg\")\n",
    "\n",
    "result = audio_1 + audio_2\n",
    "result.export(\"audios/Nima.ogg\")\n",
    "\n",
    "os.remove(\"audios/Nima_1.ogg\")\n",
    "os.remove(\"audios/Nima_2.ogg\")"
   ]
  },
  {
   "cell_type": "code",
   "execution_count": 26,
   "metadata": {},
   "outputs": [],
   "source": [
    "audio = pydub.AudioSegment.from_file(\"audios/Mona.m4a\")\n",
    "\n",
    "audio.export(\"audios/Mona.ogg\", format='ogg')\n",
    "os.remove(\"audios/Mona.m4a\")"
   ]
  },
  {
   "cell_type": "code",
   "execution_count": 33,
   "metadata": {},
   "outputs": [],
   "source": [
    "show_plot = False\n",
    "\n",
    "for file_name in os.listdir(\"audios\"):\n",
    "    file_path = os.path.join(\"audios\", file_name)\n",
    "    audio = pydub.AudioSegment.from_file(file_path)\n",
    "\n",
    "    if show_plot:\n",
    "        audio_array = audio.get_array_of_samples()\n",
    "        plt.figure(figsize=(20, 2))\n",
    "        plt.plot(audio_array)\n",
    "        plt.title(file_name)\n",
    "        plt.show()\n",
    "\n",
    "    # preprocessing\n",
    "    audio = audio.set_sample_width(2)  # convert to 16-bit (2 bytes per sample) to avoid tensorflow error\n",
    "    audio = audio.set_frame_rate(48000)\n",
    "    audio = audio.set_channels(1)  # convert stereo audio to mono audio to avoid tensorflow error\n",
    "\n",
    "    chunks = pydub.silence.split_on_silence(audio, min_silence_len=900, silence_thresh=-45)\n",
    "    result = sum(chunks)\n",
    "\n",
    "    person_name = file_name.split(\".\")[0]\n",
    "    result_path = os.path.join(\"audios\", person_name+\".wav\")\n",
    "    \n",
    "    # save wav file and remove ogg file\n",
    "    result.export(result_path, format=\"wav\")\n",
    "    os.remove(file_path)"
   ]
  },
  {
   "cell_type": "code",
   "execution_count": 34,
   "metadata": {},
   "outputs": [],
   "source": [
    "for file_name in os.listdir(\"audios\"):\n",
    "    file_path = os.path.join(\"audios\", file_name)\n",
    "    audio = pydub.AudioSegment.from_file(file_path)\n",
    "\n",
    "    person_name = file_name.split(\".\")[0]\n",
    "    os.makedirs(os.path.join(\"dataset\", person_name), exist_ok=True)\n",
    "\n",
    "    chunks = pydub.utils.make_chunks(audio, 1000)\n",
    "    for i, chunk in enumerate(chunks):\n",
    "        if len(chunk) >= 1000:\n",
    "            result_path = os.path.join(\"dataset\", person_name, f\"voice_{i}.wav\")\n",
    "            chunk.export(result_path, format=\"wav\")"
   ]
  }
 ],
 "metadata": {
  "kernelspec": {
   "display_name": "Python 3",
   "language": "python",
   "name": "python3"
  },
  "language_info": {
   "codemirror_mode": {
    "name": "ipython",
    "version": 3
   },
   "file_extension": ".py",
   "mimetype": "text/x-python",
   "name": "python",
   "nbconvert_exporter": "python",
   "pygments_lexer": "ipython3",
   "version": "3.10.8"
  }
 },
 "nbformat": 4,
 "nbformat_minor": 2
}
