{
 "cells": [
  {
   "cell_type": "code",
   "execution_count": 1,
   "metadata": {},
   "outputs": [],
   "source": [
    "import tensorflow as tf"
   ]
  },
  {
   "cell_type": "code",
   "execution_count": 2,
   "metadata": {},
   "outputs": [
    {
     "name": "stdout",
     "output_type": "stream",
     "text": [
      "Found 1890 files belonging to 5 classes.\n",
      "Using 1512 files for training.\n",
      "Found 1890 files belonging to 5 classes.\n",
      "Using 378 files for validation.\n"
     ]
    }
   ],
   "source": [
    "directory = \"io\\singers_dataset\"\n",
    "\n",
    "train_data = tf.keras.utils.audio_dataset_from_directory(\n",
    "    directory,\n",
    "    labels=\"inferred\",\n",
    "    label_mode=\"categorical\",\n",
    "    batch_size=4,\n",
    "    sampling_rate=None,\n",
    "    output_sequence_length=48000,\n",
    "    ragged=False,\n",
    "    shuffle=True,\n",
    "    validation_split=0.2,\n",
    "    subset=\"training\",\n",
    "    seed=7\n",
    ")\n",
    "\n",
    "validation_data = tf.keras.utils.audio_dataset_from_directory(\n",
    "    directory,\n",
    "    labels=\"inferred\",\n",
    "    label_mode=\"categorical\",\n",
    "    batch_size=4,\n",
    "    sampling_rate=None,\n",
    "    output_sequence_length=48000,\n",
    "    ragged=False,\n",
    "    shuffle=False,\n",
    "    validation_split=0.2,\n",
    "    subset=\"validation\",\n",
    "    seed=7\n",
    ")"
   ]
  },
  {
   "cell_type": "code",
   "execution_count": 3,
   "metadata": {},
   "outputs": [
    {
     "name": "stderr",
     "output_type": "stream",
     "text": [
      "d:\\Apps installed locatin\\lib\\site-packages\\keras\\src\\layers\\convolutional\\base_conv.py:107: UserWarning: Do not pass an `input_shape`/`input_dim` argument to a layer. When using Sequential models, prefer using an `Input(shape)` object as the first layer in the model instead.\n",
      "  super().__init__(activity_regularizer=activity_regularizer, **kwargs)\n"
     ]
    }
   ],
   "source": [
    "model = tf.keras.models.Sequential([\n",
    "    tf.keras.layers.Conv1D(32, kernel_size=80, activation='relu', strides=16, input_shape=(48000, 1)),\n",
    "    tf.keras.layers.MaxPooling1D(4),\n",
    "    tf.keras.layers.Conv1D(32, kernel_size=3, activation='relu'),\n",
    "    tf.keras.layers.MaxPooling1D(4),\n",
    "    tf.keras.layers.Conv1D(64, kernel_size=3, activation='relu'),\n",
    "    tf.keras.layers.MaxPooling1D(4),\n",
    "    tf.keras.layers.Conv1D(64, kernel_size=3, activation='relu'),\n",
    "    tf.keras.layers.MaxPooling1D(4),\n",
    "    tf.keras.layers.Flatten(),\n",
    "\n",
    "    tf.keras.layers.Dense(5, activation='softmax')\n",
    "])"
   ]
  },
  {
   "cell_type": "code",
   "execution_count": 4,
   "metadata": {},
   "outputs": [],
   "source": [
    "model.compile(\n",
    "    optimizer=tf.keras.optimizers.Adam(), \n",
    "    loss='categorical_crossentropy',\n",
    "    metrics=['accuracy'])"
   ]
  },
  {
   "cell_type": "code",
   "execution_count": 5,
   "metadata": {},
   "outputs": [
    {
     "name": "stdout",
     "output_type": "stream",
     "text": [
      "Epoch 1/20\n",
      "\u001b[1m378/378\u001b[0m \u001b[32m━━━━━━━━━━━━━━━━━━━━\u001b[0m\u001b[37m\u001b[0m \u001b[1m65s\u001b[0m 164ms/step - accuracy: 0.4368 - loss: 1.2811 - val_accuracy: 0.3042 - val_loss: 1.2308\n",
      "Epoch 2/20\n",
      "\u001b[1m378/378\u001b[0m \u001b[32m━━━━━━━━━━━━━━━━━━━━\u001b[0m\u001b[37m\u001b[0m \u001b[1m60s\u001b[0m 159ms/step - accuracy: 0.7587 - loss: 0.6723 - val_accuracy: 0.6217 - val_loss: 1.0743\n",
      "Epoch 3/20\n",
      "\u001b[1m378/378\u001b[0m \u001b[32m━━━━━━━━━━━━━━━━━━━━\u001b[0m\u001b[37m\u001b[0m \u001b[1m61s\u001b[0m 160ms/step - accuracy: 0.7900 - loss: 0.6082 - val_accuracy: 0.7196 - val_loss: 0.7497\n",
      "Epoch 4/20\n",
      "\u001b[1m378/378\u001b[0m \u001b[32m━━━━━━━━━━━━━━━━━━━━\u001b[0m\u001b[37m\u001b[0m \u001b[1m61s\u001b[0m 162ms/step - accuracy: 0.8465 - loss: 0.4332 - val_accuracy: 0.7804 - val_loss: 0.5334\n",
      "Epoch 5/20\n",
      "\u001b[1m378/378\u001b[0m \u001b[32m━━━━━━━━━━━━━━━━━━━━\u001b[0m\u001b[37m\u001b[0m \u001b[1m62s\u001b[0m 163ms/step - accuracy: 0.8610 - loss: 0.3726 - val_accuracy: 0.7646 - val_loss: 0.6117\n",
      "Epoch 6/20\n",
      "\u001b[1m378/378\u001b[0m \u001b[32m━━━━━━━━━━━━━━━━━━━━\u001b[0m\u001b[37m\u001b[0m \u001b[1m61s\u001b[0m 161ms/step - accuracy: 0.8814 - loss: 0.3238 - val_accuracy: 0.7169 - val_loss: 0.7173\n",
      "Epoch 7/20\n",
      "\u001b[1m378/378\u001b[0m \u001b[32m━━━━━━━━━━━━━━━━━━━━\u001b[0m\u001b[37m\u001b[0m \u001b[1m61s\u001b[0m 162ms/step - accuracy: 0.9027 - loss: 0.3077 - val_accuracy: 0.8280 - val_loss: 0.4862\n",
      "Epoch 8/20\n",
      "\u001b[1m378/378\u001b[0m \u001b[32m━━━━━━━━━━━━━━━━━━━━\u001b[0m\u001b[37m\u001b[0m \u001b[1m62s\u001b[0m 163ms/step - accuracy: 0.9198 - loss: 0.2422 - val_accuracy: 0.9074 - val_loss: 0.2838\n",
      "Epoch 9/20\n",
      "\u001b[1m378/378\u001b[0m \u001b[32m━━━━━━━━━━━━━━━━━━━━\u001b[0m\u001b[37m\u001b[0m \u001b[1m62s\u001b[0m 164ms/step - accuracy: 0.9377 - loss: 0.1762 - val_accuracy: 0.8704 - val_loss: 0.3980\n",
      "Epoch 10/20\n",
      "\u001b[1m378/378\u001b[0m \u001b[32m━━━━━━━━━━━━━━━━━━━━\u001b[0m\u001b[37m\u001b[0m \u001b[1m63s\u001b[0m 166ms/step - accuracy: 0.9488 - loss: 0.1596 - val_accuracy: 0.9259 - val_loss: 0.2136\n",
      "Epoch 11/20\n",
      "\u001b[1m378/378\u001b[0m \u001b[32m━━━━━━━━━━━━━━━━━━━━\u001b[0m\u001b[37m\u001b[0m \u001b[1m64s\u001b[0m 170ms/step - accuracy: 0.9406 - loss: 0.1786 - val_accuracy: 0.8598 - val_loss: 0.4141\n",
      "Epoch 12/20\n",
      "\u001b[1m378/378\u001b[0m \u001b[32m━━━━━━━━━━━━━━━━━━━━\u001b[0m\u001b[37m\u001b[0m \u001b[1m64s\u001b[0m 169ms/step - accuracy: 0.9325 - loss: 0.2055 - val_accuracy: 0.8651 - val_loss: 0.4812\n",
      "Epoch 13/20\n",
      "\u001b[1m378/378\u001b[0m \u001b[32m━━━━━━━━━━━━━━━━━━━━\u001b[0m\u001b[37m\u001b[0m \u001b[1m61s\u001b[0m 162ms/step - accuracy: 0.9401 - loss: 0.2049 - val_accuracy: 0.9180 - val_loss: 0.2181\n",
      "Epoch 14/20\n",
      "\u001b[1m378/378\u001b[0m \u001b[32m━━━━━━━━━━━━━━━━━━━━\u001b[0m\u001b[37m\u001b[0m \u001b[1m61s\u001b[0m 162ms/step - accuracy: 0.9501 - loss: 0.1598 - val_accuracy: 0.8545 - val_loss: 0.4443\n",
      "Epoch 15/20\n",
      "\u001b[1m378/378\u001b[0m \u001b[32m━━━━━━━━━━━━━━━━━━━━\u001b[0m\u001b[37m\u001b[0m \u001b[1m64s\u001b[0m 168ms/step - accuracy: 0.9606 - loss: 0.1139 - val_accuracy: 0.9127 - val_loss: 0.2474\n",
      "Epoch 16/20\n",
      "\u001b[1m378/378\u001b[0m \u001b[32m━━━━━━━━━━━━━━━━━━━━\u001b[0m\u001b[37m\u001b[0m \u001b[1m63s\u001b[0m 166ms/step - accuracy: 0.9749 - loss: 0.0822 - val_accuracy: 0.9206 - val_loss: 0.2337\n",
      "Epoch 17/20\n",
      "\u001b[1m378/378\u001b[0m \u001b[32m━━━━━━━━━━━━━━━━━━━━\u001b[0m\u001b[37m\u001b[0m \u001b[1m63s\u001b[0m 166ms/step - accuracy: 0.9687 - loss: 0.0858 - val_accuracy: 0.9550 - val_loss: 0.1115\n",
      "Epoch 18/20\n",
      "\u001b[1m378/378\u001b[0m \u001b[32m━━━━━━━━━━━━━━━━━━━━\u001b[0m\u001b[37m\u001b[0m \u001b[1m65s\u001b[0m 173ms/step - accuracy: 0.9640 - loss: 0.1039 - val_accuracy: 0.9021 - val_loss: 0.2772\n",
      "Epoch 19/20\n",
      "\u001b[1m378/378\u001b[0m \u001b[32m━━━━━━━━━━━━━━━━━━━━\u001b[0m\u001b[37m\u001b[0m \u001b[1m62s\u001b[0m 164ms/step - accuracy: 0.9518 - loss: 0.1775 - val_accuracy: 0.9444 - val_loss: 0.1848\n",
      "Epoch 20/20\n",
      "\u001b[1m378/378\u001b[0m \u001b[32m━━━━━━━━━━━━━━━━━━━━\u001b[0m\u001b[37m\u001b[0m \u001b[1m62s\u001b[0m 164ms/step - accuracy: 0.9750 - loss: 0.0772 - val_accuracy: 0.9048 - val_loss: 0.2973\n"
     ]
    }
   ],
   "source": [
    "history = model.fit(train_data, validation_data=validation_data, epochs=20)"
   ]
  },
  {
   "cell_type": "code",
   "execution_count": 6,
   "metadata": {},
   "outputs": [
    {
     "name": "stderr",
     "output_type": "stream",
     "text": [
      "WARNING:absl:You are saving your model as an HDF5 file via `model.save()` or `keras.saving.save_model(model)`. This file format is considered legacy. We recommend using instead the native Keras format, e.g. `model.save('my_model.keras')` or `keras.saving.save_model(model, 'my_model.keras')`. \n"
     ]
    }
   ],
   "source": [
    "model.save(\"weights/singers_audio_classification.h5\")"
   ]
  },
  {
   "cell_type": "code",
   "execution_count": 7,
   "metadata": {},
   "outputs": [
    {
     "name": "stdout",
     "output_type": "stream",
     "text": [
      "\u001b[1m1/1\u001b[0m \u001b[32m━━━━━━━━━━━━━━━━━━━━\u001b[0m\u001b[37m\u001b[0m \u001b[1m0s\u001b[0m 178ms/step\n"
     ]
    },
    {
     "data": {
      "text/plain": [
       "0"
      ]
     },
     "execution_count": 7,
     "metadata": {},
     "output_type": "execute_result"
    }
   ],
   "source": [
    "import numpy as np\n",
    "\n",
    "\n",
    "file_path = \"io/singers_dataset/Aslani/voice_0.wav\"\n",
    "x = tf.io.read_file(file_path)\n",
    "x, sample_rate = tf.audio.decode_wav(x, desired_channels=1, desired_samples=48000,)\n",
    "x = x[tf.newaxis, ...]\n",
    "\n",
    "prediction = model.predict(x)\n",
    "np.argmax(prediction)"
   ]
  }
 ],
 "metadata": {
  "kernelspec": {
   "display_name": "Python 3",
   "language": "python",
   "name": "python3"
  },
  "language_info": {
   "codemirror_mode": {
    "name": "ipython",
    "version": 3
   },
   "file_extension": ".py",
   "mimetype": "text/x-python",
   "name": "python",
   "nbconvert_exporter": "python",
   "pygments_lexer": "ipython3",
   "version": "3.10.8"
  }
 },
 "nbformat": 4,
 "nbformat_minor": 2
}
