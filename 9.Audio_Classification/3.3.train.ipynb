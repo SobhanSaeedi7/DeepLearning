{
 "cells": [
  {
   "cell_type": "code",
   "execution_count": 1,
   "metadata": {},
   "outputs": [],
   "source": [
    "import tensorflow as tf"
   ]
  },
  {
   "cell_type": "code",
   "execution_count": 2,
   "metadata": {},
   "outputs": [
    {
     "name": "stdout",
     "output_type": "stream",
     "text": [
      "Found 1890 files belonging to 5 classes.\n",
      "Using 1512 files for training.\n",
      "Found 1890 files belonging to 5 classes.\n",
      "Using 378 files for validation.\n"
     ]
    }
   ],
   "source": [
    "directory = \"io\\singers_dataset\"\n",
    "\n",
    "train_data = tf.keras.utils.audio_dataset_from_directory(\n",
    "    directory,\n",
    "    labels=\"inferred\",\n",
    "    label_mode=\"categorical\",\n",
    "    batch_size=4,\n",
    "    sampling_rate=None,\n",
    "    output_sequence_length=48000,\n",
    "    ragged=False,\n",
    "    shuffle=True,\n",
    "    validation_split=0.2,\n",
    "    subset=\"training\",\n",
    "    seed=7\n",
    ")\n",
    "\n",
    "validation_data = tf.keras.utils.audio_dataset_from_directory(\n",
    "    directory,\n",
    "    labels=\"inferred\",\n",
    "    label_mode=\"categorical\",\n",
    "    batch_size=4,\n",
    "    sampling_rate=None,\n",
    "    output_sequence_length=48000,\n",
    "    ragged=False,\n",
    "    shuffle=False,\n",
    "    validation_split=0.2,\n",
    "    subset=\"validation\",\n",
    "    seed=7\n",
    ")"
   ]
  },
  {
   "cell_type": "code",
   "execution_count": 3,
   "metadata": {},
   "outputs": [],
   "source": [
    "model = tf.keras.models.Sequential([\n",
    "    tf.keras.layers.Conv1D(32, kernel_size=80, activation='relu', strides=16, input_shape=(48000, 1)),\n",
    "    tf.keras.layers.MaxPooling1D(4),\n",
    "    tf.keras.layers.Conv1D(32, kernel_size=3, activation='relu'),\n",
    "    tf.keras.layers.MaxPooling1D(4),\n",
    "    tf.keras.layers.Conv1D(64, kernel_size=3, activation='relu'),\n",
    "    tf.keras.layers.MaxPooling1D(4),\n",
    "    tf.keras.layers.Conv1D(64, kernel_size=3, activation='relu'),\n",
    "    tf.keras.layers.MaxPooling1D(4),\n",
    "    tf.keras.layers.Flatten(),\n",
    "\n",
    "    tf.keras.layers.Dense(5, activation='softmax')\n",
    "])"
   ]
  },
  {
   "cell_type": "code",
   "execution_count": 4,
   "metadata": {},
   "outputs": [],
   "source": [
    "model.compile(\n",
    "    optimizer=tf.keras.optimizers.Adam(), \n",
    "    loss='categorical_crossentropy',\n",
    "    metrics=['accuracy'])"
   ]
  },
  {
   "cell_type": "code",
   "execution_count": 5,
   "metadata": {},
   "outputs": [
    {
     "name": "stdout",
     "output_type": "stream",
     "text": [
      "Epoch 1/20\n",
      "378/378 [==============================] - 12s 27ms/step - loss: 0.9968 - accuracy: 0.6065 - val_loss: 1.0778 - val_accuracy: 0.5370\n",
      "Epoch 2/20\n",
      "378/378 [==============================] - 8s 21ms/step - loss: 0.6420 - accuracy: 0.7811 - val_loss: 1.0165 - val_accuracy: 0.5661\n",
      "Epoch 3/20\n",
      "378/378 [==============================] - 8s 22ms/step - loss: 0.4991 - accuracy: 0.8340 - val_loss: 0.5656 - val_accuracy: 0.7751\n",
      "Epoch 4/20\n",
      "378/378 [==============================] - 8s 22ms/step - loss: 0.4349 - accuracy: 0.8479 - val_loss: 0.4764 - val_accuracy: 0.8175\n",
      "Epoch 5/20\n",
      "378/378 [==============================] - 8s 22ms/step - loss: 0.3565 - accuracy: 0.8770 - val_loss: 0.4634 - val_accuracy: 0.8095\n",
      "Epoch 6/20\n",
      "378/378 [==============================] - 8s 21ms/step - loss: 0.2715 - accuracy: 0.9114 - val_loss: 0.2346 - val_accuracy: 0.9021\n",
      "Epoch 7/20\n",
      "378/378 [==============================] - 8s 22ms/step - loss: 0.2567 - accuracy: 0.9140 - val_loss: 0.2272 - val_accuracy: 0.8889\n",
      "Epoch 8/20\n",
      "378/378 [==============================] - 8s 22ms/step - loss: 0.2369 - accuracy: 0.9233 - val_loss: 0.2491 - val_accuracy: 0.9021\n",
      "Epoch 9/20\n",
      "378/378 [==============================] - 8s 22ms/step - loss: 0.2124 - accuracy: 0.9319 - val_loss: 0.2056 - val_accuracy: 0.9180\n",
      "Epoch 10/20\n",
      "378/378 [==============================] - 8s 22ms/step - loss: 0.1812 - accuracy: 0.9378 - val_loss: 0.3502 - val_accuracy: 0.8677\n",
      "Epoch 11/20\n",
      "378/378 [==============================] - 8s 21ms/step - loss: 0.1466 - accuracy: 0.9497 - val_loss: 0.1190 - val_accuracy: 0.9444\n",
      "Epoch 12/20\n",
      "378/378 [==============================] - 8s 21ms/step - loss: 0.1454 - accuracy: 0.9517 - val_loss: 0.1773 - val_accuracy: 0.9206\n",
      "Epoch 13/20\n",
      "378/378 [==============================] - 8s 21ms/step - loss: 0.1393 - accuracy: 0.9577 - val_loss: 0.1298 - val_accuracy: 0.9524\n",
      "Epoch 14/20\n",
      "378/378 [==============================] - 8s 21ms/step - loss: 0.1416 - accuracy: 0.9537 - val_loss: 0.2649 - val_accuracy: 0.9233\n",
      "Epoch 15/20\n",
      "378/378 [==============================] - 8s 21ms/step - loss: 0.1502 - accuracy: 0.9491 - val_loss: 0.1249 - val_accuracy: 0.9550\n",
      "Epoch 16/20\n",
      "378/378 [==============================] - 8s 22ms/step - loss: 0.0797 - accuracy: 0.9735 - val_loss: 0.1706 - val_accuracy: 0.9339\n",
      "Epoch 17/20\n",
      "378/378 [==============================] - 8s 22ms/step - loss: 0.1606 - accuracy: 0.9530 - val_loss: 0.0863 - val_accuracy: 0.9630\n",
      "Epoch 18/20\n",
      "378/378 [==============================] - 8s 22ms/step - loss: 0.1505 - accuracy: 0.9570 - val_loss: 0.1376 - val_accuracy: 0.9577\n",
      "Epoch 19/20\n",
      "378/378 [==============================] - 8s 22ms/step - loss: 0.1026 - accuracy: 0.9643 - val_loss: 0.2529 - val_accuracy: 0.9286\n",
      "Epoch 20/20\n",
      "378/378 [==============================] - 8s 22ms/step - loss: 0.0674 - accuracy: 0.9755 - val_loss: 0.1249 - val_accuracy: 0.9603\n"
     ]
    }
   ],
   "source": [
    "history = model.fit(train_data, validation_data=validation_data, epochs=20)"
   ]
  },
  {
   "cell_type": "code",
   "execution_count": 6,
   "metadata": {},
   "outputs": [],
   "source": [
    "model.save(\"weights/singers_audio_classification.h5\")"
   ]
  },
  {
   "cell_type": "code",
   "execution_count": 7,
   "metadata": {},
   "outputs": [
    {
     "name": "stdout",
     "output_type": "stream",
     "text": [
      "1/1 [==============================] - 0s 212ms/step\n"
     ]
    },
    {
     "data": {
      "text/plain": [
       "0"
      ]
     },
     "execution_count": 7,
     "metadata": {},
     "output_type": "execute_result"
    }
   ],
   "source": [
    "import numpy as np\n",
    "\n",
    "\n",
    "file_path = \"io/singers_dataset/Aslani/voice_0.wav\"\n",
    "x = tf.io.read_file(file_path)\n",
    "x, sample_rate = tf.audio.decode_wav(x, desired_channels=1, desired_samples=48000,)\n",
    "x = x[tf.newaxis, ...]\n",
    "\n",
    "prediction = model.predict(x)\n",
    "np.argmax(prediction)"
   ]
  }
 ],
 "metadata": {
  "kernelspec": {
   "display_name": "Python 3",
   "language": "python",
   "name": "python3"
  },
  "language_info": {
   "codemirror_mode": {
    "name": "ipython",
    "version": 3
   },
   "file_extension": ".py",
   "mimetype": "text/x-python",
   "name": "python",
   "nbconvert_exporter": "python",
   "pygments_lexer": "ipython3",
   "version": "3.10.8"
  }
 },
 "nbformat": 4,
 "nbformat_minor": 2
}
