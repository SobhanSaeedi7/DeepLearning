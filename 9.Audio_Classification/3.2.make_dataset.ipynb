{
 "cells": [
  {
   "cell_type": "code",
   "execution_count": 1,
   "metadata": {},
   "outputs": [],
   "source": [
    "import os\n",
    "import pydub\n",
    "import matplotlib.pyplot as plt"
   ]
  },
  {
   "cell_type": "code",
   "execution_count": 3,
   "metadata": {},
   "outputs": [],
   "source": [
    "def get_prober_name():\n",
    "    return \"C://ffmpeg/bin/ffprobe.exe\"\n",
    "\n",
    "\n",
    "pydub.AudioSegment.converter = \"C://ffmpeg/bin/ffmpeg.exe\"                  \n",
    "pydub.utils.get_prober_name = get_prober_name"
   ]
  },
  {
   "cell_type": "code",
   "execution_count": 11,
   "metadata": {},
   "outputs": [],
   "source": [
    "audio_1 = pydub.AudioSegment.from_file(\"io\\singers_audios\\Aslani_1.wav\")\n",
    "audio_2 = pydub.AudioSegment.from_file(\"io\\singers_audios\\Aslani_2.wav\")\n",
    "\n",
    "result = audio_1 + audio_2\n",
    "result.export(\"io\\singers_audios\\Aslani.wav\")\n",
    "\n",
    "os.remove(\"io\\singers_audios\\Aslani_1.wav\")\n",
    "os.remove(\"io\\singers_audios\\Aslani_2.wav\")"
   ]
  },
  {
   "cell_type": "code",
   "execution_count": 5,
   "metadata": {},
   "outputs": [],
   "source": [
    "audio_1 = pydub.AudioSegment.from_file(\"io\\singers_audios\\Chavoshi_1.wav\")\n",
    "audio_2 = pydub.AudioSegment.from_file(\"io\\singers_audios\\Chavoshi_2.wav\")\n",
    "\n",
    "result = audio_1 + audio_2\n",
    "result.export(\"io\\singers_audios\\Chavoshi.wav\")\n",
    "\n",
    "os.remove(\"io\\singers_audios\\Chavoshi_1.wav\")\n",
    "os.remove(\"io\\singers_audios\\Chavoshi_2.wav\")"
   ]
  },
  {
   "cell_type": "code",
   "execution_count": 6,
   "metadata": {},
   "outputs": [],
   "source": [
    "audio_1 = pydub.AudioSegment.from_file(\"io\\singers_audios\\Hayedeh_1.wav\")\n",
    "audio_2 = pydub.AudioSegment.from_file(\"io\\singers_audios\\Hayedeh_2.wav\")\n",
    "\n",
    "result = audio_1 + audio_2\n",
    "result.export(\"io\\singers_audios\\Hayedeh.wav\")\n",
    "\n",
    "os.remove(\"io\\singers_audios\\Hayedeh_1.wav\")\n",
    "os.remove(\"io\\singers_audios\\Hayedeh_2.wav\")"
   ]
  },
  {
   "cell_type": "code",
   "execution_count": 7,
   "metadata": {},
   "outputs": [],
   "source": [
    "audio_1 = pydub.AudioSegment.from_file(\"io\\singers_audios\\Moein_1.wav\")\n",
    "audio_2 = pydub.AudioSegment.from_file(\"io\\singers_audios\\Moein_2.wav\")\n",
    "\n",
    "result = audio_1 + audio_2\n",
    "result.export(\"io\\singers_audios\\Moein.wav\")\n",
    "\n",
    "os.remove(\"io\\singers_audios\\Moein_1.wav\")\n",
    "os.remove(\"io\\singers_audios\\Moein_2.wav\")"
   ]
  },
  {
   "cell_type": "code",
   "execution_count": 8,
   "metadata": {},
   "outputs": [],
   "source": [
    "audio_1 = pydub.AudioSegment.from_file(\"io\\singers_audios\\Shadmehr_1.wav\")\n",
    "audio_2 = pydub.AudioSegment.from_file(\"io\\singers_audios\\Shadmehr_2.wav\")\n",
    "\n",
    "result = audio_1 + audio_2\n",
    "result.export(\"io\\singers_audios\\Shadmehr.wav\")\n",
    "\n",
    "os.remove(\"io\\singers_audios\\Shadmehr_1.wav\")\n",
    "os.remove(\"io\\singers_audios\\Shadmehr_2.wav\")"
   ]
  },
  {
   "cell_type": "code",
   "execution_count": 12,
   "metadata": {},
   "outputs": [],
   "source": [
    "show_plot = False\n",
    "\n",
    "for file_name in os.listdir(\"io\\singers_audios\"):\n",
    "    file_path = os.path.join(\"io\\singers_audios\", file_name)\n",
    "    audio = pydub.AudioSegment.from_file(file_path)\n",
    "\n",
    "    if show_plot:\n",
    "        audio_array = audio.get_array_of_samples()\n",
    "        plt.figure(figsize=(20, 2))\n",
    "        plt.plot(audio_array)\n",
    "        plt.title(file_name)\n",
    "        plt.show()\n",
    "\n",
    "    # preprocessing\n",
    "    audio = audio.set_sample_width(2)  # convert to 16-bit (2 bytes per sample) to avoid tensorflow error\n",
    "    audio = audio.set_frame_rate(48000)\n",
    "    audio = audio.set_channels(1)  # convert stereo audio to mono audio to avoid tensorflow error\n",
    "\n",
    "    chunks = pydub.silence.split_on_silence(audio, min_silence_len=900, silence_thresh=-45)\n",
    "    result = sum(chunks)\n",
    "\n",
    "    singer_name = file_name.split(\".\")[0]\n",
    "    result_path = os.path.join(\"io\\singers_audios\", singer_name+\".wav\")\n",
    "    \n",
    "    # save wav file and remove ogg file\n",
    "    os.remove(file_path)\n",
    "    result.export(result_path, format=\"wav\")"
   ]
  },
  {
   "cell_type": "code",
   "execution_count": 13,
   "metadata": {},
   "outputs": [],
   "source": [
    "for file_name in os.listdir(\"io\\singers_audios\"):\n",
    "    file_path = os.path.join(\"io\\singers_audios\", file_name)\n",
    "    audio = pydub.AudioSegment.from_file(file_path)\n",
    "\n",
    "    singer_name = file_name.split(\".\")[0]\n",
    "    os.makedirs(os.path.join(\"io\\singers_dataset\", singer_name), exist_ok=True)\n",
    "\n",
    "    chunks = pydub.utils.make_chunks(audio, 1000)\n",
    "    for i, chunk in enumerate(chunks):\n",
    "        if len(chunk) >= 1000:\n",
    "            result_path = os.path.join(\"io\\singers_dataset\", singer_name, f\"voice_{i}.wav\")\n",
    "            chunk.export(result_path, format=\"wav\")"
   ]
  }
 ],
 "metadata": {
  "kernelspec": {
   "display_name": "Python 3",
   "language": "python",
   "name": "python3"
  },
  "language_info": {
   "codemirror_mode": {
    "name": "ipython",
    "version": 3
   },
   "file_extension": ".py",
   "mimetype": "text/x-python",
   "name": "python",
   "nbconvert_exporter": "python",
   "pygments_lexer": "ipython3",
   "version": "3.10.8"
  }
 },
 "nbformat": 4,
 "nbformat_minor": 2
}
