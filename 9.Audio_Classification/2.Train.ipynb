{
 "cells": [
  {
   "cell_type": "code",
   "execution_count": 2,
   "metadata": {},
   "outputs": [],
   "source": [
    "import tensorflow as tf"
   ]
  },
  {
   "cell_type": "code",
   "execution_count": 3,
   "metadata": {},
   "outputs": [
    {
     "name": "stdout",
     "output_type": "stream",
     "text": [
      "Found 1930 files belonging to 21 classes.\n",
      "Using 1544 files for training.\n",
      "Found 1930 files belonging to 21 classes.\n",
      "Using 386 files for validation.\n"
     ]
    }
   ],
   "source": [
    "directory = \"dataset\"\n",
    "\n",
    "train_data = tf.keras.utils.audio_dataset_from_directory(\n",
    "    directory,\n",
    "    labels=\"inferred\",\n",
    "    label_mode=\"categorical\",\n",
    "    batch_size=4,\n",
    "    sampling_rate=None,\n",
    "    output_sequence_length=48000,\n",
    "    ragged=False,\n",
    "    shuffle=True,\n",
    "    validation_split=0.2,\n",
    "    subset=\"training\",\n",
    "    seed=7\n",
    ")\n",
    "\n",
    "validation_data = tf.keras.utils.audio_dataset_from_directory(\n",
    "    directory,\n",
    "    labels=\"inferred\",\n",
    "    label_mode=\"categorical\",\n",
    "    batch_size=4,\n",
    "    sampling_rate=None,\n",
    "    output_sequence_length=48000,\n",
    "    ragged=False,\n",
    "    shuffle=False,\n",
    "    validation_split=0.2,\n",
    "    subset=\"validation\",\n",
    "    seed=7\n",
    ")"
   ]
  },
  {
   "cell_type": "code",
   "execution_count": 8,
   "metadata": {},
   "outputs": [],
   "source": [
    "model = tf.keras.models.Sequential([\n",
    "    tf.keras.layers.Conv1D(32, kernel_size=80, activation='relu', strides=16, input_shape=(48000, 1)),\n",
    "    tf.keras.layers.MaxPooling1D(4),\n",
    "    tf.keras.layers.Conv1D(32, kernel_size=3, activation='relu'),\n",
    "    tf.keras.layers.MaxPooling1D(4),\n",
    "    tf.keras.layers.Conv1D(64, kernel_size=3, activation='relu'),\n",
    "    tf.keras.layers.MaxPooling1D(4),\n",
    "    tf.keras.layers.Conv1D(64, kernel_size=3, activation='relu'),\n",
    "    tf.keras.layers.MaxPooling1D(4),\n",
    "    tf.keras.layers.Flatten(),\n",
    "\n",
    "    tf.keras.layers.Dense(21, activation='softmax')\n",
    "])"
   ]
  },
  {
   "cell_type": "code",
   "execution_count": 9,
   "metadata": {},
   "outputs": [],
   "source": [
    "model.compile(\n",
    "    optimizer=tf.keras.optimizers.Adam(), \n",
    "    loss='categorical_crossentropy',\n",
    "    metrics=['accuracy'])"
   ]
  },
  {
   "cell_type": "code",
   "execution_count": 10,
   "metadata": {},
   "outputs": [
    {
     "name": "stdout",
     "output_type": "stream",
     "text": [
      "Epoch 1/20\n",
      "386/386 [==============================] - 12s 26ms/step - loss: 2.4013 - accuracy: 0.2552 - val_loss: 1.0795 - val_accuracy: 0.5984\n",
      "Epoch 2/20\n",
      "386/386 [==============================] - 8s 20ms/step - loss: 1.2183 - accuracy: 0.6172 - val_loss: 0.5762 - val_accuracy: 0.8135\n",
      "Epoch 3/20\n",
      "386/386 [==============================] - 8s 22ms/step - loss: 0.7149 - accuracy: 0.7753 - val_loss: 0.2759 - val_accuracy: 0.9249\n",
      "Epoch 4/20\n",
      "386/386 [==============================] - 8s 20ms/step - loss: 0.4784 - accuracy: 0.8517 - val_loss: 0.5648 - val_accuracy: 0.8109\n",
      "Epoch 5/20\n",
      "386/386 [==============================] - 8s 20ms/step - loss: 0.4348 - accuracy: 0.8750 - val_loss: 0.2280 - val_accuracy: 0.9326\n",
      "Epoch 6/20\n",
      "386/386 [==============================] - 8s 20ms/step - loss: 0.3072 - accuracy: 0.9035 - val_loss: 0.2997 - val_accuracy: 0.9041\n",
      "Epoch 7/20\n",
      "386/386 [==============================] - 8s 21ms/step - loss: 0.2322 - accuracy: 0.9320 - val_loss: 0.1751 - val_accuracy: 0.9404\n",
      "Epoch 8/20\n",
      "386/386 [==============================] - 8s 21ms/step - loss: 0.1798 - accuracy: 0.9482 - val_loss: 0.2085 - val_accuracy: 0.9378\n",
      "Epoch 9/20\n",
      "386/386 [==============================] - 8s 21ms/step - loss: 0.2825 - accuracy: 0.9203 - val_loss: 0.1793 - val_accuracy: 0.9456\n",
      "Epoch 10/20\n",
      "386/386 [==============================] - 8s 21ms/step - loss: 0.1457 - accuracy: 0.9598 - val_loss: 0.1889 - val_accuracy: 0.9456\n",
      "Epoch 11/20\n",
      "386/386 [==============================] - 8s 21ms/step - loss: 0.2883 - accuracy: 0.9378 - val_loss: 0.1841 - val_accuracy: 0.9456\n",
      "Epoch 12/20\n",
      "386/386 [==============================] - 8s 21ms/step - loss: 0.0967 - accuracy: 0.9741 - val_loss: 0.0939 - val_accuracy: 0.9663\n",
      "Epoch 13/20\n",
      "386/386 [==============================] - 8s 22ms/step - loss: 0.0823 - accuracy: 0.9722 - val_loss: 0.0994 - val_accuracy: 0.9767\n",
      "Epoch 14/20\n",
      "386/386 [==============================] - 8s 21ms/step - loss: 0.0317 - accuracy: 0.9935 - val_loss: 0.1477 - val_accuracy: 0.9663\n",
      "Epoch 15/20\n",
      "386/386 [==============================] - 9s 22ms/step - loss: 0.1927 - accuracy: 0.9534 - val_loss: 0.2332 - val_accuracy: 0.9301\n",
      "Epoch 16/20\n",
      "386/386 [==============================] - 8s 22ms/step - loss: 0.0637 - accuracy: 0.9838 - val_loss: 0.1275 - val_accuracy: 0.9560\n",
      "Epoch 17/20\n",
      "386/386 [==============================] - 8s 22ms/step - loss: 0.1027 - accuracy: 0.9728 - val_loss: 0.1436 - val_accuracy: 0.9637\n",
      "Epoch 18/20\n",
      "386/386 [==============================] - 8s 22ms/step - loss: 0.1950 - accuracy: 0.9514 - val_loss: 0.1979 - val_accuracy: 0.9482\n",
      "Epoch 19/20\n",
      "386/386 [==============================] - 8s 22ms/step - loss: 0.0320 - accuracy: 0.9922 - val_loss: 0.0775 - val_accuracy: 0.9819\n",
      "Epoch 20/20\n",
      "386/386 [==============================] - 8s 22ms/step - loss: 0.0124 - accuracy: 0.9987 - val_loss: 0.1231 - val_accuracy: 0.9715\n"
     ]
    }
   ],
   "source": [
    "history = model.fit(train_data, validation_data=validation_data, epochs=20)"
   ]
  },
  {
   "cell_type": "code",
   "execution_count": 14,
   "metadata": {},
   "outputs": [],
   "source": [
    "model.save(\"weights/audio_classification.h5\")"
   ]
  },
  {
   "cell_type": "code",
   "execution_count": 13,
   "metadata": {},
   "outputs": [
    {
     "name": "stdout",
     "output_type": "stream",
     "text": [
      "1/1 [==============================] - 0s 233ms/step\n"
     ]
    },
    {
     "data": {
      "text/plain": [
       "19"
      ]
     },
     "execution_count": 13,
     "metadata": {},
     "output_type": "execute_result"
    }
   ],
   "source": [
    "import numpy as np\n",
    "\n",
    "\n",
    "file_path = \"dataset/Sobhan/voice_0.wav\"\n",
    "x = tf.io.read_file(file_path)\n",
    "x, sample_rate = tf.audio.decode_wav(x, desired_channels=1, desired_samples=48000,)\n",
    "x = x[tf.newaxis, ...]\n",
    "\n",
    "prediction = model.predict(x)\n",
    "np.argmax(prediction)"
   ]
  }
 ],
 "metadata": {
  "kernelspec": {
   "display_name": "Python 3",
   "language": "python",
   "name": "python3"
  },
  "language_info": {
   "codemirror_mode": {
    "name": "ipython",
    "version": 3
   },
   "file_extension": ".py",
   "mimetype": "text/x-python",
   "name": "python",
   "nbconvert_exporter": "python",
   "pygments_lexer": "ipython3",
   "version": "3.10.8"
  }
 },
 "nbformat": 4,
 "nbformat_minor": 2
}
