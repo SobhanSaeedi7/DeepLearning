{
  "cells": [
    {
      "cell_type": "code",
      "execution_count": 14,
      "metadata": {
        "colab": {
          "base_uri": "https://localhost:8080/"
        },
        "id": "jiu1MXt09RRe",
        "outputId": "1443033a-a3e9-4941-d992-8b23a041a2e2"
      },
      "outputs": [
        {
          "output_type": "stream",
          "name": "stdout",
          "text": [
            "Reading package lists... Done\n",
            "Building dependency tree... Done\n",
            "Reading state information... Done\n",
            "ffmpeg is already the newest version (7:4.4.2-0ubuntu0.22.04.1).\n",
            "0 upgraded, 0 newly installed, 0 to remove and 49 not upgraded.\n"
          ]
        }
      ],
      "source": [
        "!apt install ffmpeg"
      ]
    },
    {
      "cell_type": "code",
      "execution_count": null,
      "metadata": {
        "id": "fnLrfVXF9pAJ"
      },
      "outputs": [],
      "source": [
        "!pip install spleeter"
      ]
    },
    {
      "cell_type": "code",
      "execution_count": 2,
      "metadata": {
        "id": "RBaUC8z39sDp"
      },
      "outputs": [],
      "source": [
        "import os\n",
        "from IPython.display import Audio\n",
        "from spleeter.separator import Separator"
      ]
    },
    {
      "cell_type": "code",
      "execution_count": null,
      "metadata": {
        "id": "u4GgNLj898id"
      },
      "outputs": [],
      "source": [
        "for file_name in os.listdir(\"io/music\"):\n",
        "    audio_path = os.path.join(\"io/music\", file_name)\n",
        "    separator = Separator(\"spleeter:2stems\")\n",
        "    prediction = separator.separate_to_file(audio_path, \"io/spleeter_output\")"
      ]
    }
  ],
  "metadata": {
    "colab": {
      "provenance": []
    },
    "kernelspec": {
      "display_name": "Python 3",
      "name": "python3"
    },
    "language_info": {
      "name": "python"
    }
  },
  "nbformat": 4,
  "nbformat_minor": 0
}