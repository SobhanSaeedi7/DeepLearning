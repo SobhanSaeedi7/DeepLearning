{
  "cells": [
    {
      "cell_type": "code",
      "execution_count": 14,
      "metadata": {
        "colab": {
          "base_uri": "https://localhost:8080/"
        },
        "id": "jiu1MXt09RRe",
        "outputId": "1443033a-a3e9-4941-d992-8b23a041a2e2"
      },
      "outputs": [
        {
          "name": "stdout",
          "output_type": "stream",
          "text": [
            "Reading package lists... Done\n",
            "Building dependency tree... Done\n",
            "Reading state information... Done\n",
            "ffmpeg is already the newest version (7:4.4.2-0ubuntu0.22.04.1).\n",
            "0 upgraded, 0 newly installed, 0 to remove and 49 not upgraded.\n"
          ]
        }
      ],
      "source": [
        "!apt install ffmpeg"
      ]
    },
    {
      "cell_type": "code",
      "execution_count": null,
      "metadata": {
        "id": "fnLrfVXF9pAJ"
      },
      "outputs": [],
      "source": [
        "!pip install spleeter"
      ]
    },
    {
      "cell_type": "code",
      "execution_count": 2,
      "metadata": {
        "id": "RBaUC8z39sDp"
      },
      "outputs": [],
      "source": [
        "import os\n",
        "from IPython.display import Audio\n",
        "from spleeter.separator import Separator"
      ]
    },
    {
      "cell_type": "code",
      "execution_count": null,
      "metadata": {
        "id": "u4GgNLj898id"
      },
      "outputs": [],
      "source": [
        "for file_name in os.listdir(\"io/music\"):\n",
        "    audio_path = os.path.join(\"io/music\", file_name)\n",
        "    separator = Separator(\"spleeter:2stems\")\n",
        "    prediction = separator.separate_to_file(audio_path, \"io/spleeter_output\")"
      ]
    },
    {
      "cell_type": "code",
      "execution_count": 3,
      "metadata": {},
      "outputs": [
        {
          "ename": "SpleeterError",
          "evalue": "ffprobe binary not found",
          "output_type": "error",
          "traceback": [
            "\u001b[1;31m---------------------------------------------------------------------------\u001b[0m",
            "\u001b[1;31mSpleeterError\u001b[0m                             Traceback (most recent call last)",
            "Cell \u001b[1;32mIn[3], line 3\u001b[0m\n\u001b[0;32m      1\u001b[0m audio_path \u001b[38;5;241m=\u001b[39m \u001b[38;5;124m'\u001b[39m\u001b[38;5;124mreceived_file.wav\u001b[39m\u001b[38;5;124m'\u001b[39m\n\u001b[0;32m      2\u001b[0m separator \u001b[38;5;241m=\u001b[39m Separator(\u001b[38;5;124m\"\u001b[39m\u001b[38;5;124mspleeter:2stems\u001b[39m\u001b[38;5;124m\"\u001b[39m)\n\u001b[1;32m----> 3\u001b[0m prediction \u001b[38;5;241m=\u001b[39m \u001b[43mseparator\u001b[49m\u001b[38;5;241;43m.\u001b[39;49m\u001b[43mseparate_to_file\u001b[49m\u001b[43m(\u001b[49m\u001b[43maudio_path\u001b[49m\u001b[43m,\u001b[49m\u001b[43m \u001b[49m\u001b[38;5;124;43m'\u001b[39;49m\u001b[38;5;124;43m./\u001b[39;49m\u001b[38;5;124;43m'\u001b[39;49m\u001b[43m)\u001b[49m\n",
            "File \u001b[1;32md:\\Apps installed locatin\\lib\\site-packages\\spleeter\\separator.py:290\u001b[0m, in \u001b[0;36mSeparator.separate_to_file\u001b[1;34m(self, audio_descriptor, destination, audio_adapter, offset, duration, codec, bitrate, filename_format, synchronous)\u001b[0m\n\u001b[0;32m    255\u001b[0m \u001b[38;5;250m\u001b[39m\u001b[38;5;124;03m\"\"\"\u001b[39;00m\n\u001b[0;32m    256\u001b[0m \u001b[38;5;124;03mPerforms source separation and export result to file using\u001b[39;00m\n\u001b[0;32m    257\u001b[0m \u001b[38;5;124;03mgiven audio adapter.\u001b[39;00m\n\u001b[1;32m   (...)\u001b[0m\n\u001b[0;32m    287\u001b[0m \u001b[38;5;124;03m        (Optional) True is should by synchronous.\u001b[39;00m\n\u001b[0;32m    288\u001b[0m \u001b[38;5;124;03m\"\"\"\u001b[39;00m\n\u001b[0;32m    289\u001b[0m \u001b[38;5;28;01mif\u001b[39;00m audio_adapter \u001b[38;5;129;01mis\u001b[39;00m \u001b[38;5;28;01mNone\u001b[39;00m:\n\u001b[1;32m--> 290\u001b[0m     audio_adapter \u001b[38;5;241m=\u001b[39m \u001b[43mAudioAdapter\u001b[49m\u001b[38;5;241;43m.\u001b[39;49m\u001b[43mdefault\u001b[49m\u001b[43m(\u001b[49m\u001b[43m)\u001b[49m\n\u001b[0;32m    291\u001b[0m waveform, _ \u001b[38;5;241m=\u001b[39m audio_adapter\u001b[38;5;241m.\u001b[39mload(\n\u001b[0;32m    292\u001b[0m     audio_descriptor,\n\u001b[0;32m    293\u001b[0m     offset\u001b[38;5;241m=\u001b[39moffset,\n\u001b[0;32m    294\u001b[0m     duration\u001b[38;5;241m=\u001b[39mduration,\n\u001b[0;32m    295\u001b[0m     sample_rate\u001b[38;5;241m=\u001b[39m\u001b[38;5;28mself\u001b[39m\u001b[38;5;241m.\u001b[39m_sample_rate,\n\u001b[0;32m    296\u001b[0m )\n\u001b[0;32m    297\u001b[0m sources \u001b[38;5;241m=\u001b[39m \u001b[38;5;28mself\u001b[39m\u001b[38;5;241m.\u001b[39mseparate(waveform, audio_descriptor)\n",
            "File \u001b[1;32md:\\Apps installed locatin\\lib\\site-packages\\spleeter\\audio\\adapter.py:173\u001b[0m, in \u001b[0;36mAudioAdapter.default\u001b[1;34m(cls)\u001b[0m\n\u001b[0;32m    170\u001b[0m \u001b[38;5;28;01mif\u001b[39;00m \u001b[38;5;28mcls\u001b[39m\u001b[38;5;241m.\u001b[39m_DEFAULT \u001b[38;5;129;01mis\u001b[39;00m \u001b[38;5;28;01mNone\u001b[39;00m:\n\u001b[0;32m    171\u001b[0m     \u001b[38;5;28;01mfrom\u001b[39;00m \u001b[38;5;21;01m.\u001b[39;00m\u001b[38;5;21;01mffmpeg\u001b[39;00m \u001b[38;5;28;01mimport\u001b[39;00m FFMPEGProcessAudioAdapter\n\u001b[1;32m--> 173\u001b[0m     \u001b[38;5;28mcls\u001b[39m\u001b[38;5;241m.\u001b[39m_DEFAULT \u001b[38;5;241m=\u001b[39m \u001b[43mFFMPEGProcessAudioAdapter\u001b[49m\u001b[43m(\u001b[49m\u001b[43m)\u001b[49m\n\u001b[0;32m    174\u001b[0m \u001b[38;5;28;01mreturn\u001b[39;00m \u001b[38;5;28mcls\u001b[39m\u001b[38;5;241m.\u001b[39m_DEFAULT\n",
            "File \u001b[1;32md:\\Apps installed locatin\\lib\\site-packages\\spleeter\\audio\\ffmpeg.py:62\u001b[0m, in \u001b[0;36mFFMPEGProcessAudioAdapter.__init__\u001b[1;34m(_)\u001b[0m\n\u001b[0;32m     60\u001b[0m \u001b[38;5;28;01mfor\u001b[39;00m binary \u001b[38;5;129;01min\u001b[39;00m (\u001b[38;5;124m\"\u001b[39m\u001b[38;5;124mffmpeg\u001b[39m\u001b[38;5;124m\"\u001b[39m, \u001b[38;5;124m\"\u001b[39m\u001b[38;5;124mffprobe\u001b[39m\u001b[38;5;124m\"\u001b[39m):\n\u001b[0;32m     61\u001b[0m     \u001b[38;5;28;01mif\u001b[39;00m shutil\u001b[38;5;241m.\u001b[39mwhich(binary) \u001b[38;5;129;01mis\u001b[39;00m \u001b[38;5;28;01mNone\u001b[39;00m:\n\u001b[1;32m---> 62\u001b[0m         \u001b[38;5;28;01mraise\u001b[39;00m SpleeterError(\u001b[38;5;124m\"\u001b[39m\u001b[38;5;132;01m{}\u001b[39;00m\u001b[38;5;124m binary not found\u001b[39m\u001b[38;5;124m\"\u001b[39m\u001b[38;5;241m.\u001b[39mformat(binary))\n",
            "\u001b[1;31mSpleeterError\u001b[0m: ffprobe binary not found"
          ]
        }
      ],
      "source": [
        "audio_path = 'received_file.wav'\n",
        "separator = Separator(\"spleeter:2stems\")\n",
        "prediction = separator.separate_to_file(audio_path, './')"
      ]
    }
  ],
  "metadata": {
    "colab": {
      "provenance": []
    },
    "kernelspec": {
      "display_name": "Python 3",
      "name": "python3"
    },
    "language_info": {
      "codemirror_mode": {
        "name": "ipython",
        "version": 3
      },
      "file_extension": ".py",
      "mimetype": "text/x-python",
      "name": "python",
      "nbconvert_exporter": "python",
      "pygments_lexer": "ipython3",
      "version": "3.10.8"
    }
  },
  "nbformat": 4,
  "nbformat_minor": 0
}
