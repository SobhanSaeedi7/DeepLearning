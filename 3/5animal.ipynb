{
  "nbformat": 4,
  "nbformat_minor": 0,
  "metadata": {
    "colab": {
      "provenance": [],
      "gpuType": "T4"
    },
    "kernelspec": {
      "name": "python3",
      "display_name": "Python 3"
    },
    "language_info": {
      "name": "python"
    },
    "accelerator": "GPU"
  },
  "cells": [
    {
      "cell_type": "code",
      "execution_count": 2,
      "metadata": {
        "id": "gcIL6eVmwDjQ"
      },
      "outputs": [],
      "source": [
        "import tensorflow as tf\n",
        "from tensorflow.keras import layers, models\n",
        "from tensorflow.keras.preprocessing.image import ImageDataGenerator"
      ]
    },
    {
      "cell_type": "code",
      "source": [
        "dataset_path = '/content/drive/MyDrive/datasets/5Animals'\n",
        "\n",
        "# image augmentation\n",
        "idg = ImageDataGenerator(\n",
        "    rescale=1./255,\n",
        "    rotation_range=20,\n",
        "    zoom_range=0.2,\n",
        "    horizontal_flip=True,\n",
        "    validation_split=0.2\n",
        ")\n",
        "\n",
        "dataset_train = idg.flow_from_directory(\n",
        "    dataset_path,\n",
        "    shuffle=True,\n",
        "    save_to_dir='/content/drive/MyDrive/datasets/5Animals_test',\n",
        "    subset='training'\n",
        ")\n",
        "\n",
        "dataset_validation = idg.flow_from_directory(\n",
        "    dataset_path,\n",
        "    shuffle=True,\n",
        "    subset='validation'\n",
        ")"
      ],
      "metadata": {
        "colab": {
          "base_uri": "https://localhost:8080/"
        },
        "id": "3Mt4WxANNi7K",
        "outputId": "a6aa8d42-5788-48ed-bde0-a91af916bbbf"
      },
      "execution_count": 6,
      "outputs": [
        {
          "output_type": "stream",
          "name": "stdout",
          "text": [
            "Found 1042 images belonging to 5 classes.\n",
            "Found 257 images belonging to 5 classes.\n"
          ]
        }
      ]
    },
    {
      "cell_type": "code",
      "source": [
        "model = models.Sequential([\n",
        "    layers.Conv2D(128, (3, 3), strides=(2, 2), activation='relu'),\n",
        "    layers.Conv2D(128, (3, 3), strides=(2, 2), activation='relu'),\n",
        "])"
      ],
      "metadata": {
        "id": "lcmT4D7fW2mJ"
      },
      "execution_count": null,
      "outputs": []
    }
  ]
}